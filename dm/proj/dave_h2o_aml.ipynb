{
 "cells": [
  {
   "cell_type": "markdown",
   "metadata": {},
   "source": [
    "# PCA"
   ]
  },
  {
   "cell_type": "code",
   "execution_count": 1,
   "metadata": {},
   "outputs": [],
   "source": [
    "import h2o\n",
    "from h2o.estimators.pca import H2OPrincipalComponentAnalysisEstimator as h2pca"
   ]
  },
  {
   "cell_type": "code",
   "execution_count": 2,
   "metadata": {},
   "outputs": [
    {
     "name": "stdout",
     "output_type": "stream",
     "text": [
      "Checking whether there is an H2O instance running at http://localhost:54321..... not found.\n",
      "Attempting to start a local H2O server...\n",
      "  Java Version: java version \"1.8.0_172\"; Java(TM) SE Runtime Environment (build 1.8.0_172-b11); Java HotSpot(TM) 64-Bit Server VM (build 25.172-b11, mixed mode)\n",
      "  Starting server from /usr/local/anaconda3/lib/python3.5/site-packages/h2o/backend/bin/h2o.jar\n",
      "  Ice root: /var/folders/fm/z2chdhwn5z3__xvw4bw758hm0000gn/T/tmpsfjtuix8\n",
      "  JVM stdout: /var/folders/fm/z2chdhwn5z3__xvw4bw758hm0000gn/T/tmpsfjtuix8/h2o_davehiltbrand_started_from_python.out\n",
      "  JVM stderr: /var/folders/fm/z2chdhwn5z3__xvw4bw758hm0000gn/T/tmpsfjtuix8/h2o_davehiltbrand_started_from_python.err\n",
      "  Server is running at http://127.0.0.1:54321\n",
      "Connecting to H2O server at http://127.0.0.1:54321... successful.\n"
     ]
    },
    {
     "data": {
      "text/html": [
       "<div style=\"overflow:auto\"><table style=\"width:50%\"><tr><td>H2O cluster uptime:</td>\n",
       "<td>02 secs</td></tr>\n",
       "<tr><td>H2O cluster timezone:</td>\n",
       "<td>America/New_York</td></tr>\n",
       "<tr><td>H2O data parsing timezone:</td>\n",
       "<td>UTC</td></tr>\n",
       "<tr><td>H2O cluster version:</td>\n",
       "<td>3.22.0.1</td></tr>\n",
       "<tr><td>H2O cluster version age:</td>\n",
       "<td>22 days </td></tr>\n",
       "<tr><td>H2O cluster name:</td>\n",
       "<td>H2O_from_python_davehiltbrand_eye95v</td></tr>\n",
       "<tr><td>H2O cluster total nodes:</td>\n",
       "<td>1</td></tr>\n",
       "<tr><td>H2O cluster free memory:</td>\n",
       "<td>3.556 Gb</td></tr>\n",
       "<tr><td>H2O cluster total cores:</td>\n",
       "<td>8</td></tr>\n",
       "<tr><td>H2O cluster allowed cores:</td>\n",
       "<td>8</td></tr>\n",
       "<tr><td>H2O cluster status:</td>\n",
       "<td>accepting new members, healthy</td></tr>\n",
       "<tr><td>H2O connection url:</td>\n",
       "<td>http://127.0.0.1:54321</td></tr>\n",
       "<tr><td>H2O connection proxy:</td>\n",
       "<td>None</td></tr>\n",
       "<tr><td>H2O internal security:</td>\n",
       "<td>False</td></tr>\n",
       "<tr><td>H2O API Extensions:</td>\n",
       "<td>XGBoost, Algos, AutoML, Core V3, Core V4</td></tr>\n",
       "<tr><td>Python version:</td>\n",
       "<td>3.5.5 final</td></tr></table></div>"
      ],
      "text/plain": [
       "--------------------------  ----------------------------------------\n",
       "H2O cluster uptime:         02 secs\n",
       "H2O cluster timezone:       America/New_York\n",
       "H2O data parsing timezone:  UTC\n",
       "H2O cluster version:        3.22.0.1\n",
       "H2O cluster version age:    22 days\n",
       "H2O cluster name:           H2O_from_python_davehiltbrand_eye95v\n",
       "H2O cluster total nodes:    1\n",
       "H2O cluster free memory:    3.556 Gb\n",
       "H2O cluster total cores:    8\n",
       "H2O cluster allowed cores:  8\n",
       "H2O cluster status:         accepting new members, healthy\n",
       "H2O connection url:         http://127.0.0.1:54321\n",
       "H2O connection proxy:\n",
       "H2O internal security:      False\n",
       "H2O API Extensions:         XGBoost, Algos, AutoML, Core V3, Core V4\n",
       "Python version:             3.5.5 final\n",
       "--------------------------  ----------------------------------------"
      ]
     },
     "metadata": {},
     "output_type": "display_data"
    }
   ],
   "source": [
    "h2o.init()"
   ]
  },
  {
   "cell_type": "code",
   "execution_count": 3,
   "metadata": {},
   "outputs": [
    {
     "name": "stdout",
     "output_type": "stream",
     "text": [
      "Parse progress: |█████████████████████████████████████████████████████████| 100%\n",
      "Parse progress: |█████████████████████████████████████████████████████████| 100%\n"
     ]
    }
   ],
   "source": [
    "train = h2o.import_file('../data/train_data.csv')\n",
    "test = h2o.import_file('../data/valid_data.csv')"
   ]
  },
  {
   "cell_type": "markdown",
   "metadata": {},
   "source": [
    "### Identify predictors and response"
   ]
  },
  {
   "cell_type": "code",
   "execution_count": 22,
   "metadata": {},
   "outputs": [],
   "source": [
    "x = train.columns\n",
    "y = 'target'\n",
    "x.remove(y)"
   ]
  },
  {
   "cell_type": "code",
   "execution_count": 23,
   "metadata": {},
   "outputs": [],
   "source": [
    "ml_pca = h2pca(k=15, transform='standardize', seed=303, training_frame = train)"
   ]
  },
  {
   "cell_type": "code",
   "execution_count": 24,
   "metadata": {},
   "outputs": [
    {
     "name": "stdout",
     "output_type": "stream",
     "text": [
      "pca Model Build progress: |███████████████████████████████████████████████| 100%\n"
     ]
    },
    {
     "name": "stderr",
     "output_type": "stream",
     "text": [
      "/usr/local/anaconda3/lib/python3.5/site-packages/h2o/job.py:69: UserWarning: _train: Dataset used may contain fewer number of rows due to removal of rows with NA/missing values.  If this is not desirable, set impute_missing argument in pca call to TRUE/True/true/... depending on the client language.\n",
      "  warnings.warn(w)\n"
     ]
    }
   ],
   "source": [
    "ml_pca.train(x=x, training_frame=train)"
   ]
  },
  {
   "cell_type": "code",
   "execution_count": 25,
   "metadata": {},
   "outputs": [
    {
     "data": {
      "text/plain": [
       "[('Standard deviation',\n",
       "  4.46545280903257,\n",
       "  2.9354977454274245,\n",
       "  2.270448375699896,\n",
       "  1.9489162206499804,\n",
       "  1.8442500711912138,\n",
       "  1.758000950108184,\n",
       "  1.649848537892869,\n",
       "  1.3453755743917162,\n",
       "  1.095652855116754,\n",
       "  1.0682157056100072,\n",
       "  1.0021995252011864,\n",
       "  0.9945517315050414,\n",
       "  0.9309488429222432,\n",
       "  0.8684055424220624,\n",
       "  0.8145046090325112),\n",
       " ('Proportion of Variance',\n",
       "  0.3251903273938001,\n",
       "  0.14053034530502626,\n",
       "  0.08406783714223122,\n",
       "  0.06194310217743787,\n",
       "  0.05546847537270977,\n",
       "  0.05040165786709488,\n",
       "  0.044390983134932685,\n",
       "  0.02951845946964279,\n",
       "  0.01957728939231109,\n",
       "  0.01860906397826425,\n",
       "  0.01638004144884111,\n",
       "  0.01613100280564,\n",
       "  0.01413377730011828,\n",
       "  0.012298489770835344,\n",
       "  0.010819163986310913),\n",
       " ('Cumulative Proportion',\n",
       "  0.3251903273938001,\n",
       "  0.46572067269882633,\n",
       "  0.5497885098410575,\n",
       "  0.6117316120184955,\n",
       "  0.6672000873912052,\n",
       "  0.7176017452583,\n",
       "  0.7619927283932327,\n",
       "  0.7915111878628756,\n",
       "  0.8110884772551866,\n",
       "  0.8296975412334509,\n",
       "  0.8460775826822919,\n",
       "  0.8622085854879319,\n",
       "  0.8763423627880502,\n",
       "  0.8886408525588856,\n",
       "  0.8994600165451965)]"
      ]
     },
     "execution_count": 25,
     "metadata": {},
     "output_type": "execute_result"
    }
   ],
   "source": [
    "ml_pca.varimp()"
   ]
  },
  {
   "cell_type": "code",
   "execution_count": 26,
   "metadata": {},
   "outputs": [
    {
     "name": "stdout",
     "output_type": "stream",
     "text": [
      "Importance of components: \n"
     ]
    },
    {
     "data": {
      "text/html": [
       "<div style=\"overflow:auto\"><table style=\"width:50%\"><tr><td><b></b></td>\n",
       "<td><b>pc1</b></td>\n",
       "<td><b>pc2</b></td>\n",
       "<td><b>pc3</b></td>\n",
       "<td><b>pc4</b></td>\n",
       "<td><b>pc5</b></td>\n",
       "<td><b>pc6</b></td>\n",
       "<td><b>pc7</b></td>\n",
       "<td><b>pc8</b></td>\n",
       "<td><b>pc9</b></td>\n",
       "<td><b>pc10</b></td>\n",
       "<td><b>pc11</b></td>\n",
       "<td><b>pc12</b></td>\n",
       "<td><b>pc13</b></td>\n",
       "<td><b>pc14</b></td>\n",
       "<td><b>pc15</b></td></tr>\n",
       "<tr><td>Standard deviation</td>\n",
       "<td>4.4654528</td>\n",
       "<td>2.9354977</td>\n",
       "<td>2.2704484</td>\n",
       "<td>1.9489162</td>\n",
       "<td>1.8442501</td>\n",
       "<td>1.7580010</td>\n",
       "<td>1.6498485</td>\n",
       "<td>1.3453756</td>\n",
       "<td>1.0956529</td>\n",
       "<td>1.0682157</td>\n",
       "<td>1.0021995</td>\n",
       "<td>0.9945517</td>\n",
       "<td>0.9309488</td>\n",
       "<td>0.8684055</td>\n",
       "<td>0.8145046</td></tr>\n",
       "<tr><td>Proportion of Variance</td>\n",
       "<td>0.3251903</td>\n",
       "<td>0.1405303</td>\n",
       "<td>0.0840678</td>\n",
       "<td>0.0619431</td>\n",
       "<td>0.0554685</td>\n",
       "<td>0.0504017</td>\n",
       "<td>0.0443910</td>\n",
       "<td>0.0295185</td>\n",
       "<td>0.0195773</td>\n",
       "<td>0.0186091</td>\n",
       "<td>0.0163800</td>\n",
       "<td>0.0161310</td>\n",
       "<td>0.0141338</td>\n",
       "<td>0.0122985</td>\n",
       "<td>0.0108192</td></tr>\n",
       "<tr><td>Cumulative Proportion</td>\n",
       "<td>0.3251903</td>\n",
       "<td>0.4657207</td>\n",
       "<td>0.5497885</td>\n",
       "<td>0.6117316</td>\n",
       "<td>0.6672001</td>\n",
       "<td>0.7176017</td>\n",
       "<td>0.7619927</td>\n",
       "<td>0.7915112</td>\n",
       "<td>0.8110885</td>\n",
       "<td>0.8296975</td>\n",
       "<td>0.8460776</td>\n",
       "<td>0.8622086</td>\n",
       "<td>0.8763424</td>\n",
       "<td>0.8886409</td>\n",
       "<td>0.8994600</td></tr></table></div>"
      ],
      "text/plain": [
       "                        pc1      pc2       pc3        pc4        pc5        pc6        pc7       pc8        pc9        pc10       pc11      pc12      pc13       pc14       pc15\n",
       "----------------------  -------  --------  ---------  ---------  ---------  ---------  --------  ---------  ---------  ---------  --------  --------  ---------  ---------  ---------\n",
       "Standard deviation      4.46545  2.9355    2.27045    1.94892    1.84425    1.758      1.64985   1.34538    1.09565    1.06822    1.0022    0.994552  0.930949   0.868406   0.814505\n",
       "Proportion of Variance  0.32519  0.14053   0.0840678  0.0619431  0.0554685  0.0504017  0.044391  0.0295185  0.0195773  0.0186091  0.01638   0.016131  0.0141338  0.0122985  0.0108192\n",
       "Cumulative Proportion   0.32519  0.465721  0.549789   0.611732   0.6672     0.717602   0.761993  0.791511   0.811088   0.829698   0.846078  0.862209  0.876342   0.888641   0.89946"
      ]
     },
     "metadata": {},
     "output_type": "display_data"
    },
    {
     "data": {
      "text/plain": []
     },
     "execution_count": 26,
     "metadata": {},
     "output_type": "execute_result"
    }
   ],
   "source": [
    "ml_pca.summary()"
   ]
  },
  {
   "cell_type": "code",
   "execution_count": 81,
   "metadata": {},
   "outputs": [
    {
     "name": "stdout",
     "output_type": "stream",
     "text": [
      "Model Details\n",
      "=============\n",
      "H2OPrincipalComponentAnalysisEstimator :  Principal Components Analysis\n",
      "Model Key:  PCA_model_python_1542376854694_9\n",
      "\n",
      "\n",
      "ModelMetricsPCA: pca\n",
      "** Reported on train data. **\n",
      "\n",
      "MSE: NaN\n",
      "RMSE: NaN\n",
      "Scoring History for GramSVD: \n"
     ]
    },
    {
     "data": {
      "text/html": [
       "<div style=\"overflow:auto\"><table style=\"width:50%\"><tr><td><b></b></td>\n",
       "<td><b>timestamp</b></td>\n",
       "<td><b>duration</b></td>\n",
       "<td><b>iterations</b></td></tr>\n",
       "<tr><td></td>\n",
       "<td>2018-11-17 17:07:30</td>\n",
       "<td> 0.014 sec</td>\n",
       "<td>0.0</td></tr></table></div>"
      ],
      "text/plain": [
       "    timestamp            duration    iterations\n",
       "--  -------------------  ----------  ------------\n",
       "    2018-11-17 17:07:30  0.014 sec   0"
      ]
     },
     "metadata": {},
     "output_type": "display_data"
    },
    {
     "data": {
      "text/plain": []
     },
     "execution_count": 81,
     "metadata": {},
     "output_type": "execute_result"
    }
   ],
   "source": [
    "ml_pca"
   ]
  },
  {
   "cell_type": "code",
   "execution_count": 27,
   "metadata": {},
   "outputs": [
    {
     "name": "stdout",
     "output_type": "stream",
     "text": [
      "pca prediction progress: |████████████████████████████████████████████████| 100%\n"
     ]
    }
   ],
   "source": [
    "pca_train = ml_pca.predict(train)"
   ]
  },
  {
   "cell_type": "code",
   "execution_count": 28,
   "metadata": {},
   "outputs": [],
   "source": [
    "pca_train['target'] = train['target']"
   ]
  },
  {
   "cell_type": "code",
   "execution_count": 29,
   "metadata": {},
   "outputs": [
    {
     "name": "stdout",
     "output_type": "stream",
     "text": [
      "pca prediction progress: |████████████████████████████████████████████████| 100%\n"
     ]
    }
   ],
   "source": [
    "pca_test = ml_pca.predict(test)"
   ]
  },
  {
   "cell_type": "code",
   "execution_count": 30,
   "metadata": {},
   "outputs": [],
   "source": [
    "pca_test['target'] = test['target']"
   ]
  },
  {
   "cell_type": "markdown",
   "metadata": {},
   "source": [
    "# h2o AutoML"
   ]
  },
  {
   "cell_type": "code",
   "execution_count": 12,
   "metadata": {},
   "outputs": [],
   "source": [
    "from h2o.automl import H2OAutoML\n",
    "import re"
   ]
  },
  {
   "cell_type": "code",
   "execution_count": 31,
   "metadata": {},
   "outputs": [],
   "source": [
    "x = pca_train.columns\n",
    "y = 'target'\n",
    "x.remove(y)"
   ]
  },
  {
   "cell_type": "markdown",
   "metadata": {},
   "source": [
    "### Run AutoML for 20 base models (limited to 1 hour max runtime by default)"
   ]
  },
  {
   "cell_type": "code",
   "execution_count": 32,
   "metadata": {},
   "outputs": [
    {
     "name": "stdout",
     "output_type": "stream",
     "text": [
      "AutoML progress: |████████████████████████████████████████████████████████| 100%\n"
     ]
    }
   ],
   "source": [
    "aml20 = H2OAutoML(max_models=20, seed=303)\n",
    "aml20.train(x=x, y=y, training_frame=pca_train, leaderboard_frame=pca_test)"
   ]
  },
  {
   "cell_type": "markdown",
   "metadata": {},
   "source": [
    "### View the AutoML Leaderboard"
   ]
  },
  {
   "cell_type": "code",
   "execution_count": 33,
   "metadata": {},
   "outputs": [
    {
     "data": {
      "text/html": [
       "<table>\n",
       "<thead>\n",
       "<tr><th>model_id                                           </th><th style=\"text-align: right;\">  mean_residual_deviance</th><th style=\"text-align: right;\">   rmse</th><th style=\"text-align: right;\">    mse</th><th style=\"text-align: right;\">     mae</th><th style=\"text-align: right;\">    rmsle</th></tr>\n",
       "</thead>\n",
       "<tbody>\n",
       "<tr><td>GLM_grid_1_AutoML_20181118_133645_model_1          </td><td style=\"text-align: right;\">                 1.99072</td><td style=\"text-align: right;\">1.41093</td><td style=\"text-align: right;\">1.99072</td><td style=\"text-align: right;\">0.968266</td><td style=\"text-align: right;\">0.0699476</td></tr>\n",
       "<tr><td>GBM_grid_1_AutoML_20181118_133645_model_2          </td><td style=\"text-align: right;\">                 1.99413</td><td style=\"text-align: right;\">1.41214</td><td style=\"text-align: right;\">1.99413</td><td style=\"text-align: right;\">0.970402</td><td style=\"text-align: right;\">0.0699559</td></tr>\n",
       "<tr><td>StackedEnsemble_BestOfFamily_AutoML_20181118_133645</td><td style=\"text-align: right;\">                 1.99536</td><td style=\"text-align: right;\">1.41257</td><td style=\"text-align: right;\">1.99536</td><td style=\"text-align: right;\">0.974701</td><td style=\"text-align: right;\">0.0698796</td></tr>\n",
       "<tr><td>StackedEnsemble_AllModels_AutoML_20181118_133645   </td><td style=\"text-align: right;\">                 2.00727</td><td style=\"text-align: right;\">1.41678</td><td style=\"text-align: right;\">2.00727</td><td style=\"text-align: right;\">0.977575</td><td style=\"text-align: right;\">0.0701083</td></tr>\n",
       "<tr><td>GBM_5_AutoML_20181118_133645                       </td><td style=\"text-align: right;\">                 2.02254</td><td style=\"text-align: right;\">1.42216</td><td style=\"text-align: right;\">2.02254</td><td style=\"text-align: right;\">0.973732</td><td style=\"text-align: right;\">0.0705357</td></tr>\n",
       "<tr><td>XGBoost_grid_1_AutoML_20181118_133645_model_4      </td><td style=\"text-align: right;\">                 2.0424 </td><td style=\"text-align: right;\">1.42913</td><td style=\"text-align: right;\">2.0424 </td><td style=\"text-align: right;\">0.977314</td><td style=\"text-align: right;\">0.070649 </td></tr>\n",
       "<tr><td>GBM_4_AutoML_20181118_133645                       </td><td style=\"text-align: right;\">                 2.04911</td><td style=\"text-align: right;\">1.43147</td><td style=\"text-align: right;\">2.04911</td><td style=\"text-align: right;\">0.978718</td><td style=\"text-align: right;\">0.0710211</td></tr>\n",
       "<tr><td>GBM_2_AutoML_20181118_133645                       </td><td style=\"text-align: right;\">                 2.05076</td><td style=\"text-align: right;\">1.43205</td><td style=\"text-align: right;\">2.05076</td><td style=\"text-align: right;\">0.975448</td><td style=\"text-align: right;\">0.0710292</td></tr>\n",
       "<tr><td>XGBoost_1_AutoML_20181118_133645                   </td><td style=\"text-align: right;\">                 2.05705</td><td style=\"text-align: right;\">1.43424</td><td style=\"text-align: right;\">2.05705</td><td style=\"text-align: right;\">0.97699 </td><td style=\"text-align: right;\">0.0711907</td></tr>\n",
       "<tr><td>DeepLearning_1_AutoML_20181118_133645              </td><td style=\"text-align: right;\">                 2.06464</td><td style=\"text-align: right;\">1.43689</td><td style=\"text-align: right;\">2.06464</td><td style=\"text-align: right;\">1.00601 </td><td style=\"text-align: right;\">0.070802 </td></tr>\n",
       "<tr><td>GBM_3_AutoML_20181118_133645                       </td><td style=\"text-align: right;\">                 2.06692</td><td style=\"text-align: right;\">1.43768</td><td style=\"text-align: right;\">2.06692</td><td style=\"text-align: right;\">0.976486</td><td style=\"text-align: right;\">0.0712939</td></tr>\n",
       "<tr><td>XGBoost_grid_1_AutoML_20181118_133645_model_2      </td><td style=\"text-align: right;\">                 2.07987</td><td style=\"text-align: right;\">1.44218</td><td style=\"text-align: right;\">2.07987</td><td style=\"text-align: right;\">0.984823</td><td style=\"text-align: right;\">0.0712539</td></tr>\n",
       "<tr><td>GBM_1_AutoML_20181118_133645                       </td><td style=\"text-align: right;\">                 2.08053</td><td style=\"text-align: right;\">1.4424 </td><td style=\"text-align: right;\">2.08053</td><td style=\"text-align: right;\">0.974093</td><td style=\"text-align: right;\">0.0716228</td></tr>\n",
       "<tr><td>DRF_1_AutoML_20181118_133645                       </td><td style=\"text-align: right;\">                 2.08141</td><td style=\"text-align: right;\">1.44271</td><td style=\"text-align: right;\">2.08141</td><td style=\"text-align: right;\">0.989549</td><td style=\"text-align: right;\">0.0713506</td></tr>\n",
       "<tr><td>XGBoost_2_AutoML_20181118_133645                   </td><td style=\"text-align: right;\">                 2.10642</td><td style=\"text-align: right;\">1.45135</td><td style=\"text-align: right;\">2.10642</td><td style=\"text-align: right;\">0.995619</td><td style=\"text-align: right;\">0.0718885</td></tr>\n",
       "<tr><td>XRT_1_AutoML_20181118_133645                       </td><td style=\"text-align: right;\">                 2.12538</td><td style=\"text-align: right;\">1.45787</td><td style=\"text-align: right;\">2.12538</td><td style=\"text-align: right;\">0.990215</td><td style=\"text-align: right;\">0.0722641</td></tr>\n",
       "<tr><td>XGBoost_3_AutoML_20181118_133645                   </td><td style=\"text-align: right;\">                 2.12752</td><td style=\"text-align: right;\">1.4586 </td><td style=\"text-align: right;\">2.12752</td><td style=\"text-align: right;\">1.00392 </td><td style=\"text-align: right;\">0.0720169</td></tr>\n",
       "<tr><td>XGBoost_grid_1_AutoML_20181118_133645_model_1      </td><td style=\"text-align: right;\">                 2.13354</td><td style=\"text-align: right;\">1.46067</td><td style=\"text-align: right;\">2.13354</td><td style=\"text-align: right;\">0.989893</td><td style=\"text-align: right;\">0.0726802</td></tr>\n",
       "<tr><td>XGBoost_grid_1_AutoML_20181118_133645_model_3      </td><td style=\"text-align: right;\">                 2.24342</td><td style=\"text-align: right;\">1.4978 </td><td style=\"text-align: right;\">2.24342</td><td style=\"text-align: right;\">1.01441 </td><td style=\"text-align: right;\">0.0742881</td></tr>\n",
       "<tr><td>DeepLearning_grid_1_AutoML_20181118_133645_model_1 </td><td style=\"text-align: right;\">                 2.25478</td><td style=\"text-align: right;\">1.50159</td><td style=\"text-align: right;\">2.25478</td><td style=\"text-align: right;\">1.04967 </td><td style=\"text-align: right;\">0.0739833</td></tr>\n",
       "<tr><td>GBM_grid_1_AutoML_20181118_133645_model_1          </td><td style=\"text-align: right;\">                 2.42393</td><td style=\"text-align: right;\">1.5569 </td><td style=\"text-align: right;\">2.42393</td><td style=\"text-align: right;\">1.09285 </td><td style=\"text-align: right;\">0.0764811</td></tr>\n",
       "<tr><td>DeepLearning_grid_1_AutoML_20181118_133645_model_2 </td><td style=\"text-align: right;\">                 2.71759</td><td style=\"text-align: right;\">1.64851</td><td style=\"text-align: right;\">2.71759</td><td style=\"text-align: right;\">1.12712 </td><td style=\"text-align: right;\">0.0807877</td></tr>\n",
       "</tbody>\n",
       "</table>"
      ]
     },
     "metadata": {},
     "output_type": "display_data"
    },
    {
     "data": {
      "text/plain": []
     },
     "execution_count": 33,
     "metadata": {},
     "output_type": "execute_result"
    }
   ],
   "source": [
    "lb = aml20.leaderboard\n",
    "# Print all rows instead of default (10 rows)\n",
    "lb.head(rows=lb.nrows) "
   ]
  },
  {
   "cell_type": "markdown",
   "metadata": {},
   "source": [
    "### Best Model Score - MAE = 0.9677976859852252"
   ]
  },
  {
   "cell_type": "code",
   "execution_count": 34,
   "metadata": {},
   "outputs": [
    {
     "name": "stdout",
     "output_type": "stream",
     "text": [
      "\n",
      "ModelMetricsRegressionGLM: glm\n",
      "** Reported on test data. **\n",
      "\n",
      "MSE: 1.9907216208911254\n",
      "RMSE: 1.4109293465270065\n",
      "MAE: 0.9682656582236503\n",
      "RMSLE: 0.0699475701974165\n",
      "R^2: 0.0029942112512446606\n",
      "Mean Residual Deviance: 1.9907216208911254\n",
      "Null degrees of freedom: 1269\n",
      "Residual degrees of freedom: 1254\n",
      "Null deviance: 2536.21148833937\n",
      "Residual deviance: 2528.216458531729\n",
      "AIC: 4512.495313980907\n"
     ]
    },
    {
     "data": {
      "text/plain": []
     },
     "execution_count": 34,
     "metadata": {},
     "output_type": "execute_result"
    }
   ],
   "source": [
    "perf = aml20.leader.model_performance(pca_test)\n",
    "perf"
   ]
  },
  {
   "cell_type": "markdown",
   "metadata": {},
   "source": [
    "### Run AutoML for all base models (limited to 3 hour max runtime)"
   ]
  },
  {
   "cell_type": "code",
   "execution_count": 10,
   "metadata": {},
   "outputs": [
    {
     "name": "stdout",
     "output_type": "stream",
     "text": [
      "AutoML progress: |████████████████████████████████████████████████████████| 100%\n"
     ]
    }
   ],
   "source": [
    "aml = H2OAutoML(max_runtime_secs=7200, seed=303)\n",
    "aml.train(x=x, y=y, training_frame=train)"
   ]
  },
  {
   "cell_type": "markdown",
   "metadata": {},
   "source": [
    "### View the AutoML Leaderboard"
   ]
  },
  {
   "cell_type": "code",
   "execution_count": 11,
   "metadata": {},
   "outputs": [
    {
     "data": {
      "text/html": [
       "<table>\n",
       "<thead>\n",
       "<tr><th>model_id                                           </th><th style=\"text-align: right;\">  mean_residual_deviance</th><th style=\"text-align: right;\">    rmse</th><th style=\"text-align: right;\">      mse</th><th style=\"text-align: right;\">     mae</th><th style=\"text-align: right;\">    rmsle</th></tr>\n",
       "</thead>\n",
       "<tbody>\n",
       "<tr><td>GLM_grid_1_AutoML_20181115_204202_model_1          </td><td style=\"text-align: right;\">                 2.01269</td><td style=\"text-align: right;\"> 1.41869</td><td style=\"text-align: right;\">  2.01269</td><td style=\"text-align: right;\">0.953742</td><td style=\"text-align: right;\">0.0695083</td></tr>\n",
       "<tr><td>GLM_grid_1_AutoML_20181115_214601_model_1          </td><td style=\"text-align: right;\">                 2.01269</td><td style=\"text-align: right;\"> 1.41869</td><td style=\"text-align: right;\">  2.01269</td><td style=\"text-align: right;\">0.953742</td><td style=\"text-align: right;\">0.0695083</td></tr>\n",
       "<tr><td>GBM_grid_1_AutoML_20181115_204202_model_2          </td><td style=\"text-align: right;\">                 2.01432</td><td style=\"text-align: right;\"> 1.41927</td><td style=\"text-align: right;\">  2.01432</td><td style=\"text-align: right;\">0.954454</td><td style=\"text-align: right;\">0.0694942</td></tr>\n",
       "<tr><td>GBM_grid_1_AutoML_20181115_214601_model_8          </td><td style=\"text-align: right;\">                 2.01528</td><td style=\"text-align: right;\"> 1.41961</td><td style=\"text-align: right;\">  2.01528</td><td style=\"text-align: right;\">0.954565</td><td style=\"text-align: right;\">0.0695184</td></tr>\n",
       "<tr><td>GBM_grid_1_AutoML_20181115_214601_model_1          </td><td style=\"text-align: right;\">                 2.01714</td><td style=\"text-align: right;\"> 1.42026</td><td style=\"text-align: right;\">  2.01714</td><td style=\"text-align: right;\">0.954686</td><td style=\"text-align: right;\">0.0695451</td></tr>\n",
       "<tr><td>DeepLearning_grid_1_AutoML_20181115_214601_model_12</td><td style=\"text-align: right;\">                 2.01755</td><td style=\"text-align: right;\"> 1.42041</td><td style=\"text-align: right;\">  2.01755</td><td style=\"text-align: right;\">0.957989</td><td style=\"text-align: right;\">0.0696499</td></tr>\n",
       "<tr><td>GBM_grid_1_AutoML_20181115_214601_model_2          </td><td style=\"text-align: right;\">                 2.01844</td><td style=\"text-align: right;\"> 1.42072</td><td style=\"text-align: right;\">  2.01844</td><td style=\"text-align: right;\">0.954827</td><td style=\"text-align: right;\">0.0695631</td></tr>\n",
       "<tr><td>GBM_grid_1_AutoML_20181115_214601_model_4          </td><td style=\"text-align: right;\">                 2.01859</td><td style=\"text-align: right;\"> 1.42077</td><td style=\"text-align: right;\">  2.01859</td><td style=\"text-align: right;\">0.954931</td><td style=\"text-align: right;\">0.0695676</td></tr>\n",
       "<tr><td>GBM_grid_1_AutoML_20181115_214601_model_3          </td><td style=\"text-align: right;\">                 2.01866</td><td style=\"text-align: right;\"> 1.42079</td><td style=\"text-align: right;\">  2.01866</td><td style=\"text-align: right;\">0.955143</td><td style=\"text-align: right;\">0.0695769</td></tr>\n",
       "<tr><td>StackedEnsemble_BestOfFamily_AutoML_20181115_204202</td><td style=\"text-align: right;\">                 2.01952</td><td style=\"text-align: right;\"> 1.4211 </td><td style=\"text-align: right;\">  2.01952</td><td style=\"text-align: right;\">0.954888</td><td style=\"text-align: right;\">0.0695872</td></tr>\n",
       "<tr><td>StackedEnsemble_AllModels_AutoML_20181115_204202   </td><td style=\"text-align: right;\">                 2.01983</td><td style=\"text-align: right;\"> 1.42121</td><td style=\"text-align: right;\">  2.01983</td><td style=\"text-align: right;\">0.954718</td><td style=\"text-align: right;\">0.0695904</td></tr>\n",
       "<tr><td>DeepLearning_grid_1_AutoML_20181115_214601_model_10</td><td style=\"text-align: right;\">                 2.02134</td><td style=\"text-align: right;\"> 1.42174</td><td style=\"text-align: right;\">  2.02134</td><td style=\"text-align: right;\">0.957404</td><td style=\"text-align: right;\">0.0696861</td></tr>\n",
       "<tr><td>GBM_grid_1_AutoML_20181115_214601_model_5          </td><td style=\"text-align: right;\">                 2.02306</td><td style=\"text-align: right;\"> 1.42234</td><td style=\"text-align: right;\">  2.02306</td><td style=\"text-align: right;\">0.958361</td><td style=\"text-align: right;\">0.0696599</td></tr>\n",
       "<tr><td>DeepLearning_grid_1_AutoML_20181115_214601_model_18</td><td style=\"text-align: right;\">                 2.02345</td><td style=\"text-align: right;\"> 1.42248</td><td style=\"text-align: right;\">  2.02345</td><td style=\"text-align: right;\">0.956274</td><td style=\"text-align: right;\">0.069723 </td></tr>\n",
       "<tr><td>DeepLearning_grid_1_AutoML_20181115_214601_model_11</td><td style=\"text-align: right;\">                 2.02686</td><td style=\"text-align: right;\"> 1.42368</td><td style=\"text-align: right;\">  2.02686</td><td style=\"text-align: right;\">0.956111</td><td style=\"text-align: right;\">0.0698242</td></tr>\n",
       "<tr><td>DeepLearning_grid_1_AutoML_20181115_214601_model_1 </td><td style=\"text-align: right;\">                 2.0377 </td><td style=\"text-align: right;\"> 1.42748</td><td style=\"text-align: right;\">  2.0377 </td><td style=\"text-align: right;\">0.965045</td><td style=\"text-align: right;\">0.0699682</td></tr>\n",
       "<tr><td>XGBoost_grid_1_AutoML_20181115_204202_model_4      </td><td style=\"text-align: right;\">                 2.04113</td><td style=\"text-align: right;\"> 1.42868</td><td style=\"text-align: right;\">  2.04113</td><td style=\"text-align: right;\">0.967711</td><td style=\"text-align: right;\">0.0696783</td></tr>\n",
       "<tr><td>DeepLearning_1_AutoML_20181115_204202              </td><td style=\"text-align: right;\">                 2.05197</td><td style=\"text-align: right;\"> 1.43247</td><td style=\"text-align: right;\">  2.05197</td><td style=\"text-align: right;\">0.976663</td><td style=\"text-align: right;\">0.0700368</td></tr>\n",
       "<tr><td>XGBoost_grid_1_AutoML_20181115_214601_model_10     </td><td style=\"text-align: right;\">                 2.05823</td><td style=\"text-align: right;\"> 1.43465</td><td style=\"text-align: right;\">  2.05823</td><td style=\"text-align: right;\">0.973589</td><td style=\"text-align: right;\">0.0699202</td></tr>\n",
       "<tr><td>GBM_5_AutoML_20181115_204202                       </td><td style=\"text-align: right;\">                 2.0587 </td><td style=\"text-align: right;\"> 1.43482</td><td style=\"text-align: right;\">  2.0587 </td><td style=\"text-align: right;\">0.974676</td><td style=\"text-align: right;\">0.070235 </td></tr>\n",
       "<tr><td>GBM_5_AutoML_20181115_214601                       </td><td style=\"text-align: right;\">                 2.0587 </td><td style=\"text-align: right;\"> 1.43482</td><td style=\"text-align: right;\">  2.0587 </td><td style=\"text-align: right;\">0.974676</td><td style=\"text-align: right;\">0.070235 </td></tr>\n",
       "<tr><td>DeepLearning_grid_1_AutoML_20181115_214601_model_8 </td><td style=\"text-align: right;\">                 2.05946</td><td style=\"text-align: right;\"> 1.43508</td><td style=\"text-align: right;\">  2.05946</td><td style=\"text-align: right;\">0.968773</td><td style=\"text-align: right;\">0.0703101</td></tr>\n",
       "<tr><td>XGBoost_grid_1_AutoML_20181115_214601_model_14     </td><td style=\"text-align: right;\">                 2.05956</td><td style=\"text-align: right;\"> 1.43512</td><td style=\"text-align: right;\">  2.05956</td><td style=\"text-align: right;\">0.972698</td><td style=\"text-align: right;\">0.0700265</td></tr>\n",
       "<tr><td>DeepLearning_1_AutoML_20181115_214601              </td><td style=\"text-align: right;\">                 2.06209</td><td style=\"text-align: right;\"> 1.436  </td><td style=\"text-align: right;\">  2.06209</td><td style=\"text-align: right;\">0.977861</td><td style=\"text-align: right;\">0.070226 </td></tr>\n",
       "<tr><td>XGBoost_grid_1_AutoML_20181115_214601_model_17     </td><td style=\"text-align: right;\">                 2.06344</td><td style=\"text-align: right;\"> 1.43647</td><td style=\"text-align: right;\">  2.06344</td><td style=\"text-align: right;\">0.979347</td><td style=\"text-align: right;\">0.0700408</td></tr>\n",
       "<tr><td>XGBoost_grid_1_AutoML_20181115_204202_model_2      </td><td style=\"text-align: right;\">                 2.06527</td><td style=\"text-align: right;\"> 1.43711</td><td style=\"text-align: right;\">  2.06527</td><td style=\"text-align: right;\">0.978216</td><td style=\"text-align: right;\">0.070005 </td></tr>\n",
       "<tr><td>DeepLearning_grid_1_AutoML_20181115_214601_model_3 </td><td style=\"text-align: right;\">                 2.06658</td><td style=\"text-align: right;\"> 1.43756</td><td style=\"text-align: right;\">  2.06658</td><td style=\"text-align: right;\">0.981615</td><td style=\"text-align: right;\">0.0702705</td></tr>\n",
       "<tr><td>DeepLearning_grid_1_AutoML_20181115_214601_model_2 </td><td style=\"text-align: right;\">                 2.06843</td><td style=\"text-align: right;\"> 1.4382 </td><td style=\"text-align: right;\">  2.06843</td><td style=\"text-align: right;\">0.969199</td><td style=\"text-align: right;\">0.0704446</td></tr>\n",
       "<tr><td>GBM_1_AutoML_20181115_204202                       </td><td style=\"text-align: right;\">                 2.0713 </td><td style=\"text-align: right;\"> 1.4392 </td><td style=\"text-align: right;\">  2.0713 </td><td style=\"text-align: right;\">0.972296</td><td style=\"text-align: right;\">0.0703534</td></tr>\n",
       "<tr><td>GBM_1_AutoML_20181115_214601                       </td><td style=\"text-align: right;\">                 2.0713 </td><td style=\"text-align: right;\"> 1.4392 </td><td style=\"text-align: right;\">  2.0713 </td><td style=\"text-align: right;\">0.972296</td><td style=\"text-align: right;\">0.0703534</td></tr>\n",
       "<tr><td>DeepLearning_grid_1_AutoML_20181115_214601_model_13</td><td style=\"text-align: right;\">                 2.08201</td><td style=\"text-align: right;\"> 1.44292</td><td style=\"text-align: right;\">  2.08201</td><td style=\"text-align: right;\">0.974292</td><td style=\"text-align: right;\">0.0708013</td></tr>\n",
       "<tr><td>XGBoost_grid_1_AutoML_20181115_214601_model_20     </td><td style=\"text-align: right;\">                 2.08415</td><td style=\"text-align: right;\"> 1.44366</td><td style=\"text-align: right;\">  2.08415</td><td style=\"text-align: right;\">0.974129</td><td style=\"text-align: right;\">0.0706022</td></tr>\n",
       "<tr><td>GBM_2_AutoML_20181115_214601                       </td><td style=\"text-align: right;\">                 2.08836</td><td style=\"text-align: right;\"> 1.44512</td><td style=\"text-align: right;\">  2.08836</td><td style=\"text-align: right;\">0.965039</td><td style=\"text-align: right;\">0.0707466</td></tr>\n",
       "<tr><td>GBM_2_AutoML_20181115_204202                       </td><td style=\"text-align: right;\">                 2.08836</td><td style=\"text-align: right;\"> 1.44512</td><td style=\"text-align: right;\">  2.08836</td><td style=\"text-align: right;\">0.965039</td><td style=\"text-align: right;\">0.0707466</td></tr>\n",
       "<tr><td>DeepLearning_grid_1_AutoML_20181115_214601_model_14</td><td style=\"text-align: right;\">                 2.09007</td><td style=\"text-align: right;\"> 1.44571</td><td style=\"text-align: right;\">  2.09007</td><td style=\"text-align: right;\">0.995568</td><td style=\"text-align: right;\">0.0707552</td></tr>\n",
       "<tr><td>XGBoost_grid_1_AutoML_20181115_214601_model_7      </td><td style=\"text-align: right;\">                 2.09351</td><td style=\"text-align: right;\"> 1.4469 </td><td style=\"text-align: right;\">  2.09351</td><td style=\"text-align: right;\">0.978014</td><td style=\"text-align: right;\">0.0706108</td></tr>\n",
       "<tr><td>XGBoost_grid_1_AutoML_20181115_214601_model_3      </td><td style=\"text-align: right;\">                 2.09406</td><td style=\"text-align: right;\"> 1.44709</td><td style=\"text-align: right;\">  2.09406</td><td style=\"text-align: right;\">0.975343</td><td style=\"text-align: right;\">0.0706599</td></tr>\n",
       "<tr><td>GBM_3_AutoML_20181115_204202                       </td><td style=\"text-align: right;\">                 2.10555</td><td style=\"text-align: right;\"> 1.45105</td><td style=\"text-align: right;\">  2.10555</td><td style=\"text-align: right;\">0.972331</td><td style=\"text-align: right;\">0.0710522</td></tr>\n",
       "<tr><td>GBM_3_AutoML_20181115_214601                       </td><td style=\"text-align: right;\">                 2.10555</td><td style=\"text-align: right;\"> 1.45105</td><td style=\"text-align: right;\">  2.10555</td><td style=\"text-align: right;\">0.972331</td><td style=\"text-align: right;\">0.0710522</td></tr>\n",
       "<tr><td>GBM_4_AutoML_20181115_214601                       </td><td style=\"text-align: right;\">                 2.10582</td><td style=\"text-align: right;\"> 1.45114</td><td style=\"text-align: right;\">  2.10582</td><td style=\"text-align: right;\">0.974248</td><td style=\"text-align: right;\">0.0710378</td></tr>\n",
       "<tr><td>GBM_4_AutoML_20181115_204202                       </td><td style=\"text-align: right;\">                 2.10582</td><td style=\"text-align: right;\"> 1.45114</td><td style=\"text-align: right;\">  2.10582</td><td style=\"text-align: right;\">0.974248</td><td style=\"text-align: right;\">0.0710378</td></tr>\n",
       "<tr><td>XGBoost_grid_1_AutoML_20181115_214601_model_1      </td><td style=\"text-align: right;\">                 2.10596</td><td style=\"text-align: right;\"> 1.45119</td><td style=\"text-align: right;\">  2.10596</td><td style=\"text-align: right;\">0.974205</td><td style=\"text-align: right;\">0.07072  </td></tr>\n",
       "<tr><td>DeepLearning_grid_1_AutoML_20181115_204202_model_1 </td><td style=\"text-align: right;\">                 2.1069 </td><td style=\"text-align: right;\"> 1.45152</td><td style=\"text-align: right;\">  2.1069 </td><td style=\"text-align: right;\">0.992472</td><td style=\"text-align: right;\">0.070945 </td></tr>\n",
       "<tr><td>DeepLearning_grid_1_AutoML_20181115_204202_model_2 </td><td style=\"text-align: right;\">                 2.10697</td><td style=\"text-align: right;\"> 1.45154</td><td style=\"text-align: right;\">  2.10697</td><td style=\"text-align: right;\">0.997469</td><td style=\"text-align: right;\">0.0710622</td></tr>\n",
       "<tr><td>XRT_1_AutoML_20181115_214601                       </td><td style=\"text-align: right;\">                 2.11297</td><td style=\"text-align: right;\"> 1.45361</td><td style=\"text-align: right;\">  2.11297</td><td style=\"text-align: right;\">0.972661</td><td style=\"text-align: right;\">0.0710769</td></tr>\n",
       "<tr><td>XRT_1_AutoML_20181115_204202                       </td><td style=\"text-align: right;\">                 2.11297</td><td style=\"text-align: right;\"> 1.45361</td><td style=\"text-align: right;\">  2.11297</td><td style=\"text-align: right;\">0.972661</td><td style=\"text-align: right;\">0.0710769</td></tr>\n",
       "<tr><td>DeepLearning_grid_1_AutoML_20181115_214601_model_4 </td><td style=\"text-align: right;\">                 2.11552</td><td style=\"text-align: right;\"> 1.45448</td><td style=\"text-align: right;\">  2.11552</td><td style=\"text-align: right;\">0.995915</td><td style=\"text-align: right;\">0.0711169</td></tr>\n",
       "<tr><td>XGBoost_1_AutoML_20181115_214601                   </td><td style=\"text-align: right;\">                 2.12132</td><td style=\"text-align: right;\"> 1.45648</td><td style=\"text-align: right;\">  2.12132</td><td style=\"text-align: right;\">0.979301</td><td style=\"text-align: right;\">0.0710996</td></tr>\n",
       "<tr><td>XGBoost_1_AutoML_20181115_204202                   </td><td style=\"text-align: right;\">                 2.12132</td><td style=\"text-align: right;\"> 1.45648</td><td style=\"text-align: right;\">  2.12132</td><td style=\"text-align: right;\">0.979301</td><td style=\"text-align: right;\">0.0710996</td></tr>\n",
       "<tr><td>XGBoost_grid_1_AutoML_20181115_214601_model_5      </td><td style=\"text-align: right;\">                 2.13773</td><td style=\"text-align: right;\"> 1.4621 </td><td style=\"text-align: right;\">  2.13773</td><td style=\"text-align: right;\">0.98811 </td><td style=\"text-align: right;\">0.0715451</td></tr>\n",
       "<tr><td>DRF_1_AutoML_20181115_214601                       </td><td style=\"text-align: right;\">                 2.14158</td><td style=\"text-align: right;\"> 1.46341</td><td style=\"text-align: right;\">  2.14158</td><td style=\"text-align: right;\">0.979838</td><td style=\"text-align: right;\">0.0715577</td></tr>\n",
       "<tr><td>DRF_1_AutoML_20181115_204202                       </td><td style=\"text-align: right;\">                 2.14158</td><td style=\"text-align: right;\"> 1.46341</td><td style=\"text-align: right;\">  2.14158</td><td style=\"text-align: right;\">0.979838</td><td style=\"text-align: right;\">0.0715577</td></tr>\n",
       "<tr><td>XGBoost_grid_1_AutoML_20181115_214601_model_13     </td><td style=\"text-align: right;\">                 2.14742</td><td style=\"text-align: right;\"> 1.46541</td><td style=\"text-align: right;\">  2.14742</td><td style=\"text-align: right;\">0.993836</td><td style=\"text-align: right;\">0.0714032</td></tr>\n",
       "<tr><td>XGBoost_grid_1_AutoML_20181115_204202_model_3      </td><td style=\"text-align: right;\">                 2.17179</td><td style=\"text-align: right;\"> 1.4737 </td><td style=\"text-align: right;\">  2.17179</td><td style=\"text-align: right;\">1.00268 </td><td style=\"text-align: right;\">0.0720837</td></tr>\n",
       "<tr><td>XGBoost_grid_1_AutoML_20181115_214601_model_6      </td><td style=\"text-align: right;\">                 2.17473</td><td style=\"text-align: right;\"> 1.4747 </td><td style=\"text-align: right;\">  2.17473</td><td style=\"text-align: right;\">1.0043  </td><td style=\"text-align: right;\">0.0719935</td></tr>\n",
       "<tr><td>DeepLearning_grid_1_AutoML_20181115_214601_model_7 </td><td style=\"text-align: right;\">                 2.17479</td><td style=\"text-align: right;\"> 1.47472</td><td style=\"text-align: right;\">  2.17479</td><td style=\"text-align: right;\">0.998711</td><td style=\"text-align: right;\">0.0720835</td></tr>\n",
       "<tr><td>XGBoost_grid_1_AutoML_20181115_214601_model_8      </td><td style=\"text-align: right;\">                 2.17974</td><td style=\"text-align: right;\"> 1.47639</td><td style=\"text-align: right;\">  2.17974</td><td style=\"text-align: right;\">0.985361</td><td style=\"text-align: right;\">0.072058 </td></tr>\n",
       "<tr><td>XGBoost_2_AutoML_20181115_214601                   </td><td style=\"text-align: right;\">                 2.17999</td><td style=\"text-align: right;\"> 1.47648</td><td style=\"text-align: right;\">  2.17999</td><td style=\"text-align: right;\">1.00469 </td><td style=\"text-align: right;\">0.0720301</td></tr>\n",
       "<tr><td>XGBoost_2_AutoML_20181115_204202                   </td><td style=\"text-align: right;\">                 2.17999</td><td style=\"text-align: right;\"> 1.47648</td><td style=\"text-align: right;\">  2.17999</td><td style=\"text-align: right;\">1.00469 </td><td style=\"text-align: right;\">0.0720301</td></tr>\n",
       "<tr><td>XGBoost_grid_1_AutoML_20181115_214601_model_2      </td><td style=\"text-align: right;\">                 2.18283</td><td style=\"text-align: right;\"> 1.47744</td><td style=\"text-align: right;\">  2.18283</td><td style=\"text-align: right;\">1.00476 </td><td style=\"text-align: right;\">0.0721951</td></tr>\n",
       "<tr><td>XGBoost_grid_1_AutoML_20181115_204202_model_1      </td><td style=\"text-align: right;\">                 2.18816</td><td style=\"text-align: right;\"> 1.47924</td><td style=\"text-align: right;\">  2.18816</td><td style=\"text-align: right;\">0.994826</td><td style=\"text-align: right;\">0.0720813</td></tr>\n",
       "<tr><td>XGBoost_grid_1_AutoML_20181115_214601_model_15     </td><td style=\"text-align: right;\">                 2.1904 </td><td style=\"text-align: right;\"> 1.48   </td><td style=\"text-align: right;\">  2.1904 </td><td style=\"text-align: right;\">1.00843 </td><td style=\"text-align: right;\">0.0722713</td></tr>\n",
       "<tr><td>DeepLearning_grid_1_AutoML_20181115_214601_model_5 </td><td style=\"text-align: right;\">                 2.19209</td><td style=\"text-align: right;\"> 1.48057</td><td style=\"text-align: right;\">  2.19209</td><td style=\"text-align: right;\">1.03994 </td><td style=\"text-align: right;\">0.0723879</td></tr>\n",
       "<tr><td>XGBoost_3_AutoML_20181115_214601                   </td><td style=\"text-align: right;\">                 2.20541</td><td style=\"text-align: right;\"> 1.48506</td><td style=\"text-align: right;\">  2.20541</td><td style=\"text-align: right;\">1.01021 </td><td style=\"text-align: right;\">0.0724558</td></tr>\n",
       "<tr><td>XGBoost_3_AutoML_20181115_204202                   </td><td style=\"text-align: right;\">                 2.20541</td><td style=\"text-align: right;\"> 1.48506</td><td style=\"text-align: right;\">  2.20541</td><td style=\"text-align: right;\">1.01021 </td><td style=\"text-align: right;\">0.0724558</td></tr>\n",
       "<tr><td>DeepLearning_grid_1_AutoML_20181115_214601_model_6 </td><td style=\"text-align: right;\">                 2.20594</td><td style=\"text-align: right;\"> 1.48524</td><td style=\"text-align: right;\">  2.20594</td><td style=\"text-align: right;\">1.0081  </td><td style=\"text-align: right;\">0.0724565</td></tr>\n",
       "<tr><td>XGBoost_grid_1_AutoML_20181115_214601_model_19     </td><td style=\"text-align: right;\">                 2.21529</td><td style=\"text-align: right;\"> 1.48838</td><td style=\"text-align: right;\">  2.21529</td><td style=\"text-align: right;\">1.00902 </td><td style=\"text-align: right;\">0.0725339</td></tr>\n",
       "<tr><td>XGBoost_grid_1_AutoML_20181115_214601_model_9      </td><td style=\"text-align: right;\">                 2.21676</td><td style=\"text-align: right;\"> 1.48888</td><td style=\"text-align: right;\">  2.21676</td><td style=\"text-align: right;\">1.00704 </td><td style=\"text-align: right;\">0.0725247</td></tr>\n",
       "<tr><td>XGBoost_grid_1_AutoML_20181115_214601_model_16     </td><td style=\"text-align: right;\">                 2.21978</td><td style=\"text-align: right;\"> 1.48989</td><td style=\"text-align: right;\">  2.21978</td><td style=\"text-align: right;\">1.01517 </td><td style=\"text-align: right;\">0.0726492</td></tr>\n",
       "<tr><td>DeepLearning_grid_1_AutoML_20181115_214601_model_16</td><td style=\"text-align: right;\">                 2.23059</td><td style=\"text-align: right;\"> 1.49352</td><td style=\"text-align: right;\">  2.23059</td><td style=\"text-align: right;\">1.00295 </td><td style=\"text-align: right;\">0.0729655</td></tr>\n",
       "<tr><td>DeepLearning_grid_1_AutoML_20181115_214601_model_15</td><td style=\"text-align: right;\">                 2.25387</td><td style=\"text-align: right;\"> 1.50129</td><td style=\"text-align: right;\">  2.25387</td><td style=\"text-align: right;\">1.01146 </td><td style=\"text-align: right;\">0.0732719</td></tr>\n",
       "<tr><td>DeepLearning_grid_1_AutoML_20181115_214601_model_17</td><td style=\"text-align: right;\">                 2.42157</td><td style=\"text-align: right;\"> 1.55614</td><td style=\"text-align: right;\">  2.42157</td><td style=\"text-align: right;\">1.0457  </td><td style=\"text-align: right;\">0.0758759</td></tr>\n",
       "<tr><td>GBM_grid_1_AutoML_20181115_214601_model_6          </td><td style=\"text-align: right;\">                 2.62668</td><td style=\"text-align: right;\"> 1.6207 </td><td style=\"text-align: right;\">  2.62668</td><td style=\"text-align: right;\">1.12546 </td><td style=\"text-align: right;\">0.0788827</td></tr>\n",
       "<tr><td>DeepLearning_grid_1_AutoML_20181115_214601_model_9 </td><td style=\"text-align: right;\">                 2.72562</td><td style=\"text-align: right;\"> 1.65095</td><td style=\"text-align: right;\">  2.72562</td><td style=\"text-align: right;\">1.07446 </td><td style=\"text-align: right;\">0.0802357</td></tr>\n",
       "<tr><td>GBM_grid_1_AutoML_20181115_204202_model_1          </td><td style=\"text-align: right;\">                 2.85224</td><td style=\"text-align: right;\"> 1.68886</td><td style=\"text-align: right;\">  2.85224</td><td style=\"text-align: right;\">1.16    </td><td style=\"text-align: right;\">0.0822992</td></tr>\n",
       "<tr><td>GBM_grid_1_AutoML_20181115_214601_model_7          </td><td style=\"text-align: right;\">                 6.19396</td><td style=\"text-align: right;\"> 2.48877</td><td style=\"text-align: right;\">  6.19396</td><td style=\"text-align: right;\">1.67193 </td><td style=\"text-align: right;\">0.125913 </td></tr>\n",
       "<tr><td>XGBoost_grid_1_AutoML_20181115_214601_model_18     </td><td style=\"text-align: right;\">                21.2213 </td><td style=\"text-align: right;\"> 4.60665</td><td style=\"text-align: right;\"> 21.2213 </td><td style=\"text-align: right;\">1.95136 </td><td style=\"text-align: right;\">0.592129 </td></tr>\n",
       "<tr><td>XGBoost_grid_1_AutoML_20181115_214601_model_4      </td><td style=\"text-align: right;\">                92.3669 </td><td style=\"text-align: right;\"> 9.61077</td><td style=\"text-align: right;\"> 92.3669 </td><td style=\"text-align: right;\">5.44135 </td><td style=\"text-align: right;\">1.28609  </td></tr>\n",
       "<tr><td>XGBoost_grid_1_AutoML_20181115_214601_model_11     </td><td style=\"text-align: right;\">                99.4443 </td><td style=\"text-align: right;\"> 9.97217</td><td style=\"text-align: right;\"> 99.4443 </td><td style=\"text-align: right;\">5.79821 </td><td style=\"text-align: right;\">1.33346  </td></tr>\n",
       "<tr><td>XGBoost_grid_1_AutoML_20181115_214601_model_12     </td><td style=\"text-align: right;\">               123.814  </td><td style=\"text-align: right;\">11.1272 </td><td style=\"text-align: right;\">123.814  </td><td style=\"text-align: right;\">6.92754 </td><td style=\"text-align: right;\">1.49041  </td></tr>\n",
       "</tbody>\n",
       "</table>"
      ]
     },
     "metadata": {},
     "output_type": "display_data"
    },
    {
     "data": {
      "text/plain": []
     },
     "execution_count": 11,
     "metadata": {},
     "output_type": "execute_result"
    }
   ],
   "source": [
    "lb = aml.leaderboard\n",
    "# Print all rows instead of default (10 rows)\n",
    "lb.head(rows=lb.nrows) "
   ]
  },
  {
   "cell_type": "markdown",
   "metadata": {},
   "source": [
    "### Best Model Score - MAE = 0.9677976859852252"
   ]
  },
  {
   "cell_type": "code",
   "execution_count": 12,
   "metadata": {},
   "outputs": [
    {
     "name": "stdout",
     "output_type": "stream",
     "text": [
      "\n",
      "ModelMetricsRegressionGLM: glm\n",
      "** Reported on test data. **\n",
      "\n",
      "MSE: 1.989476711887032\n",
      "RMSE: 1.4104881112178975\n",
      "MAE: 0.9677976859852252\n",
      "RMSLE: 0.06995727485183731\n",
      "R^2: 0.0036176944497597896\n",
      "Mean Residual Deviance: 1.989476711887032\n",
      "Null degrees of freedom: 1269\n",
      "Residual degrees of freedom: 1144\n",
      "Null deviance: 2536.21148833937\n",
      "Residual deviance: 2526.6354240965306\n",
      "AIC: 4731.700863878391\n"
     ]
    },
    {
     "data": {
      "text/plain": []
     },
     "execution_count": 12,
     "metadata": {},
     "output_type": "execute_result"
    }
   ],
   "source": [
    "perf = aml.leader.model_performance(test)\n",
    "perf"
   ]
  },
  {
   "cell_type": "markdown",
   "metadata": {},
   "source": [
    "## Running on only numeric data"
   ]
  },
  {
   "cell_type": "code",
   "execution_count": 42,
   "metadata": {},
   "outputs": [],
   "source": [
    "x = train.columns"
   ]
  },
  {
   "cell_type": "code",
   "execution_count": 43,
   "metadata": {},
   "outputs": [],
   "source": [
    "import re\n",
    "regex=re.compile(\".*(num).*\")\n",
    "x = [m.group(0) for l in x for m in [regex.search(l)] if m]\n",
    "y = 'target'"
   ]
  },
  {
   "cell_type": "markdown",
   "metadata": {},
   "source": [
    "### Run AutoML for 20 base models (limited to 1 hour max runtime by default)"
   ]
  },
  {
   "cell_type": "code",
   "execution_count": 46,
   "metadata": {},
   "outputs": [
    {
     "name": "stdout",
     "output_type": "stream",
     "text": [
      "AutoML progress: |████████████████████████████████████████████████████████| 100%\n"
     ]
    }
   ],
   "source": [
    "aml20num = H2OAutoML(max_models=20, seed=303)\n",
    "aml20num.train(x=x, y=y, training_frame=train)"
   ]
  },
  {
   "cell_type": "markdown",
   "metadata": {},
   "source": [
    "### View the AutoML Leaderboard"
   ]
  },
  {
   "cell_type": "code",
   "execution_count": 48,
   "metadata": {},
   "outputs": [
    {
     "data": {
      "text/html": [
       "<table>\n",
       "<thead>\n",
       "<tr><th>model_id                                           </th><th style=\"text-align: right;\">  mean_residual_deviance</th><th style=\"text-align: right;\">    rmse</th><th style=\"text-align: right;\">      mse</th><th style=\"text-align: right;\">     mae</th><th style=\"text-align: right;\">    rmsle</th></tr>\n",
       "</thead>\n",
       "<tbody>\n",
       "<tr><td>GBM_grid_1_AutoML_20181115_232552_model_2          </td><td style=\"text-align: right;\">                 2.01149</td><td style=\"text-align: right;\"> 1.41827</td><td style=\"text-align: right;\">  2.01149</td><td style=\"text-align: right;\">0.954151</td><td style=\"text-align: right;\">0.0694471</td></tr>\n",
       "<tr><td>GLM_grid_1_AutoML_20181115_232552_model_1          </td><td style=\"text-align: right;\">                 2.01244</td><td style=\"text-align: right;\"> 1.4186 </td><td style=\"text-align: right;\">  2.01244</td><td style=\"text-align: right;\">0.954002</td><td style=\"text-align: right;\">0.069511 </td></tr>\n",
       "<tr><td>GLM_grid_1_AutoML_20181115_204202_model_1          </td><td style=\"text-align: right;\">                 2.01269</td><td style=\"text-align: right;\"> 1.41869</td><td style=\"text-align: right;\">  2.01269</td><td style=\"text-align: right;\">0.953742</td><td style=\"text-align: right;\">0.0695083</td></tr>\n",
       "<tr><td>GLM_grid_1_AutoML_20181115_214601_model_1          </td><td style=\"text-align: right;\">                 2.01269</td><td style=\"text-align: right;\"> 1.41869</td><td style=\"text-align: right;\">  2.01269</td><td style=\"text-align: right;\">0.953742</td><td style=\"text-align: right;\">0.0695083</td></tr>\n",
       "<tr><td>GBM_grid_1_AutoML_20181115_204202_model_2          </td><td style=\"text-align: right;\">                 2.01432</td><td style=\"text-align: right;\"> 1.41927</td><td style=\"text-align: right;\">  2.01432</td><td style=\"text-align: right;\">0.954454</td><td style=\"text-align: right;\">0.0694942</td></tr>\n",
       "<tr><td>GBM_grid_1_AutoML_20181115_214601_model_8          </td><td style=\"text-align: right;\">                 2.01528</td><td style=\"text-align: right;\"> 1.41961</td><td style=\"text-align: right;\">  2.01528</td><td style=\"text-align: right;\">0.954565</td><td style=\"text-align: right;\">0.0695184</td></tr>\n",
       "<tr><td>GBM_grid_1_AutoML_20181115_214601_model_1          </td><td style=\"text-align: right;\">                 2.01714</td><td style=\"text-align: right;\"> 1.42026</td><td style=\"text-align: right;\">  2.01714</td><td style=\"text-align: right;\">0.954686</td><td style=\"text-align: right;\">0.0695451</td></tr>\n",
       "<tr><td>DeepLearning_grid_1_AutoML_20181115_214601_model_12</td><td style=\"text-align: right;\">                 2.01755</td><td style=\"text-align: right;\"> 1.42041</td><td style=\"text-align: right;\">  2.01755</td><td style=\"text-align: right;\">0.957989</td><td style=\"text-align: right;\">0.0696499</td></tr>\n",
       "<tr><td>GBM_grid_1_AutoML_20181115_214601_model_2          </td><td style=\"text-align: right;\">                 2.01844</td><td style=\"text-align: right;\"> 1.42072</td><td style=\"text-align: right;\">  2.01844</td><td style=\"text-align: right;\">0.954827</td><td style=\"text-align: right;\">0.0695631</td></tr>\n",
       "<tr><td>GBM_grid_1_AutoML_20181115_214601_model_4          </td><td style=\"text-align: right;\">                 2.01859</td><td style=\"text-align: right;\"> 1.42077</td><td style=\"text-align: right;\">  2.01859</td><td style=\"text-align: right;\">0.954931</td><td style=\"text-align: right;\">0.0695676</td></tr>\n",
       "<tr><td>GBM_grid_1_AutoML_20181115_214601_model_3          </td><td style=\"text-align: right;\">                 2.01866</td><td style=\"text-align: right;\"> 1.42079</td><td style=\"text-align: right;\">  2.01866</td><td style=\"text-align: right;\">0.955143</td><td style=\"text-align: right;\">0.0695769</td></tr>\n",
       "<tr><td>StackedEnsemble_BestOfFamily_AutoML_20181115_204202</td><td style=\"text-align: right;\">                 2.01952</td><td style=\"text-align: right;\"> 1.4211 </td><td style=\"text-align: right;\">  2.01952</td><td style=\"text-align: right;\">0.954888</td><td style=\"text-align: right;\">0.0695872</td></tr>\n",
       "<tr><td>StackedEnsemble_AllModels_AutoML_20181115_204202   </td><td style=\"text-align: right;\">                 2.01983</td><td style=\"text-align: right;\"> 1.42121</td><td style=\"text-align: right;\">  2.01983</td><td style=\"text-align: right;\">0.954718</td><td style=\"text-align: right;\">0.0695904</td></tr>\n",
       "<tr><td>DeepLearning_grid_1_AutoML_20181115_214601_model_10</td><td style=\"text-align: right;\">                 2.02134</td><td style=\"text-align: right;\"> 1.42174</td><td style=\"text-align: right;\">  2.02134</td><td style=\"text-align: right;\">0.957404</td><td style=\"text-align: right;\">0.0696861</td></tr>\n",
       "<tr><td>GBM_grid_1_AutoML_20181115_214601_model_5          </td><td style=\"text-align: right;\">                 2.02306</td><td style=\"text-align: right;\"> 1.42234</td><td style=\"text-align: right;\">  2.02306</td><td style=\"text-align: right;\">0.958361</td><td style=\"text-align: right;\">0.0696599</td></tr>\n",
       "<tr><td>DeepLearning_grid_1_AutoML_20181115_214601_model_18</td><td style=\"text-align: right;\">                 2.02345</td><td style=\"text-align: right;\"> 1.42248</td><td style=\"text-align: right;\">  2.02345</td><td style=\"text-align: right;\">0.956274</td><td style=\"text-align: right;\">0.069723 </td></tr>\n",
       "<tr><td>DeepLearning_grid_1_AutoML_20181115_214601_model_11</td><td style=\"text-align: right;\">                 2.02686</td><td style=\"text-align: right;\"> 1.42368</td><td style=\"text-align: right;\">  2.02686</td><td style=\"text-align: right;\">0.956111</td><td style=\"text-align: right;\">0.0698242</td></tr>\n",
       "<tr><td>XGBoost_grid_1_AutoML_20181115_232552_model_4      </td><td style=\"text-align: right;\">                 2.03735</td><td style=\"text-align: right;\"> 1.42736</td><td style=\"text-align: right;\">  2.03735</td><td style=\"text-align: right;\">0.965936</td><td style=\"text-align: right;\">0.0696104</td></tr>\n",
       "<tr><td>DeepLearning_grid_1_AutoML_20181115_214601_model_1 </td><td style=\"text-align: right;\">                 2.0377 </td><td style=\"text-align: right;\"> 1.42748</td><td style=\"text-align: right;\">  2.0377 </td><td style=\"text-align: right;\">0.965045</td><td style=\"text-align: right;\">0.0699682</td></tr>\n",
       "<tr><td>XGBoost_grid_1_AutoML_20181115_204202_model_4      </td><td style=\"text-align: right;\">                 2.04113</td><td style=\"text-align: right;\"> 1.42868</td><td style=\"text-align: right;\">  2.04113</td><td style=\"text-align: right;\">0.967711</td><td style=\"text-align: right;\">0.0696783</td></tr>\n",
       "<tr><td>GBM_5_AutoML_20181115_232552                       </td><td style=\"text-align: right;\">                 2.04994</td><td style=\"text-align: right;\"> 1.43176</td><td style=\"text-align: right;\">  2.04994</td><td style=\"text-align: right;\">0.971656</td><td style=\"text-align: right;\">0.0701139</td></tr>\n",
       "<tr><td>DeepLearning_1_AutoML_20181115_204202              </td><td style=\"text-align: right;\">                 2.05197</td><td style=\"text-align: right;\"> 1.43247</td><td style=\"text-align: right;\">  2.05197</td><td style=\"text-align: right;\">0.976663</td><td style=\"text-align: right;\">0.0700368</td></tr>\n",
       "<tr><td>XGBoost_grid_1_AutoML_20181115_214601_model_10     </td><td style=\"text-align: right;\">                 2.05823</td><td style=\"text-align: right;\"> 1.43465</td><td style=\"text-align: right;\">  2.05823</td><td style=\"text-align: right;\">0.973589</td><td style=\"text-align: right;\">0.0699202</td></tr>\n",
       "<tr><td>GBM_5_AutoML_20181115_204202                       </td><td style=\"text-align: right;\">                 2.0587 </td><td style=\"text-align: right;\"> 1.43482</td><td style=\"text-align: right;\">  2.0587 </td><td style=\"text-align: right;\">0.974676</td><td style=\"text-align: right;\">0.070235 </td></tr>\n",
       "<tr><td>GBM_5_AutoML_20181115_214601                       </td><td style=\"text-align: right;\">                 2.0587 </td><td style=\"text-align: right;\"> 1.43482</td><td style=\"text-align: right;\">  2.0587 </td><td style=\"text-align: right;\">0.974676</td><td style=\"text-align: right;\">0.070235 </td></tr>\n",
       "<tr><td>DeepLearning_grid_1_AutoML_20181115_214601_model_8 </td><td style=\"text-align: right;\">                 2.05946</td><td style=\"text-align: right;\"> 1.43508</td><td style=\"text-align: right;\">  2.05946</td><td style=\"text-align: right;\">0.968773</td><td style=\"text-align: right;\">0.0703101</td></tr>\n",
       "<tr><td>XGBoost_grid_1_AutoML_20181115_214601_model_14     </td><td style=\"text-align: right;\">                 2.05956</td><td style=\"text-align: right;\"> 1.43512</td><td style=\"text-align: right;\">  2.05956</td><td style=\"text-align: right;\">0.972698</td><td style=\"text-align: right;\">0.0700265</td></tr>\n",
       "<tr><td>DeepLearning_1_AutoML_20181115_214601              </td><td style=\"text-align: right;\">                 2.06209</td><td style=\"text-align: right;\"> 1.436  </td><td style=\"text-align: right;\">  2.06209</td><td style=\"text-align: right;\">0.977861</td><td style=\"text-align: right;\">0.070226 </td></tr>\n",
       "<tr><td>XGBoost_grid_1_AutoML_20181115_214601_model_17     </td><td style=\"text-align: right;\">                 2.06344</td><td style=\"text-align: right;\"> 1.43647</td><td style=\"text-align: right;\">  2.06344</td><td style=\"text-align: right;\">0.979347</td><td style=\"text-align: right;\">0.0700408</td></tr>\n",
       "<tr><td>XGBoost_grid_1_AutoML_20181115_204202_model_2      </td><td style=\"text-align: right;\">                 2.06527</td><td style=\"text-align: right;\"> 1.43711</td><td style=\"text-align: right;\">  2.06527</td><td style=\"text-align: right;\">0.978216</td><td style=\"text-align: right;\">0.070005 </td></tr>\n",
       "<tr><td>DeepLearning_grid_1_AutoML_20181115_214601_model_3 </td><td style=\"text-align: right;\">                 2.06658</td><td style=\"text-align: right;\"> 1.43756</td><td style=\"text-align: right;\">  2.06658</td><td style=\"text-align: right;\">0.981615</td><td style=\"text-align: right;\">0.0702705</td></tr>\n",
       "<tr><td>DeepLearning_grid_1_AutoML_20181115_214601_model_2 </td><td style=\"text-align: right;\">                 2.06843</td><td style=\"text-align: right;\"> 1.4382 </td><td style=\"text-align: right;\">  2.06843</td><td style=\"text-align: right;\">0.969199</td><td style=\"text-align: right;\">0.0704446</td></tr>\n",
       "<tr><td>GBM_1_AutoML_20181115_204202                       </td><td style=\"text-align: right;\">                 2.0713 </td><td style=\"text-align: right;\"> 1.4392 </td><td style=\"text-align: right;\">  2.0713 </td><td style=\"text-align: right;\">0.972296</td><td style=\"text-align: right;\">0.0703534</td></tr>\n",
       "<tr><td>GBM_1_AutoML_20181115_214601                       </td><td style=\"text-align: right;\">                 2.0713 </td><td style=\"text-align: right;\"> 1.4392 </td><td style=\"text-align: right;\">  2.0713 </td><td style=\"text-align: right;\">0.972296</td><td style=\"text-align: right;\">0.0703534</td></tr>\n",
       "<tr><td>XGBoost_grid_1_AutoML_20181115_232552_model_2      </td><td style=\"text-align: right;\">                 2.07212</td><td style=\"text-align: right;\"> 1.43949</td><td style=\"text-align: right;\">  2.07212</td><td style=\"text-align: right;\">0.979239</td><td style=\"text-align: right;\">0.0701049</td></tr>\n",
       "<tr><td>GBM_1_AutoML_20181115_232552                       </td><td style=\"text-align: right;\">                 2.07295</td><td style=\"text-align: right;\"> 1.43977</td><td style=\"text-align: right;\">  2.07295</td><td style=\"text-align: right;\">0.968658</td><td style=\"text-align: right;\">0.0704328</td></tr>\n",
       "<tr><td>DeepLearning_grid_1_AutoML_20181115_214601_model_13</td><td style=\"text-align: right;\">                 2.08201</td><td style=\"text-align: right;\"> 1.44292</td><td style=\"text-align: right;\">  2.08201</td><td style=\"text-align: right;\">0.974292</td><td style=\"text-align: right;\">0.0708013</td></tr>\n",
       "<tr><td>GBM_4_AutoML_20181115_232552                       </td><td style=\"text-align: right;\">                 2.08273</td><td style=\"text-align: right;\"> 1.44317</td><td style=\"text-align: right;\">  2.08273</td><td style=\"text-align: right;\">0.970101</td><td style=\"text-align: right;\">0.070615 </td></tr>\n",
       "<tr><td>XGBoost_grid_1_AutoML_20181115_214601_model_20     </td><td style=\"text-align: right;\">                 2.08415</td><td style=\"text-align: right;\"> 1.44366</td><td style=\"text-align: right;\">  2.08415</td><td style=\"text-align: right;\">0.974129</td><td style=\"text-align: right;\">0.0706022</td></tr>\n",
       "<tr><td>GBM_2_AutoML_20181115_204202                       </td><td style=\"text-align: right;\">                 2.08836</td><td style=\"text-align: right;\"> 1.44512</td><td style=\"text-align: right;\">  2.08836</td><td style=\"text-align: right;\">0.965039</td><td style=\"text-align: right;\">0.0707466</td></tr>\n",
       "<tr><td>GBM_2_AutoML_20181115_214601                       </td><td style=\"text-align: right;\">                 2.08836</td><td style=\"text-align: right;\"> 1.44512</td><td style=\"text-align: right;\">  2.08836</td><td style=\"text-align: right;\">0.965039</td><td style=\"text-align: right;\">0.0707466</td></tr>\n",
       "<tr><td>DeepLearning_grid_1_AutoML_20181115_214601_model_14</td><td style=\"text-align: right;\">                 2.09007</td><td style=\"text-align: right;\"> 1.44571</td><td style=\"text-align: right;\">  2.09007</td><td style=\"text-align: right;\">0.995568</td><td style=\"text-align: right;\">0.0707552</td></tr>\n",
       "<tr><td>XRT_1_AutoML_20181115_232552                       </td><td style=\"text-align: right;\">                 2.09152</td><td style=\"text-align: right;\"> 1.44621</td><td style=\"text-align: right;\">  2.09152</td><td style=\"text-align: right;\">0.972773</td><td style=\"text-align: right;\">0.0707398</td></tr>\n",
       "<tr><td>GBM_2_AutoML_20181115_232552                       </td><td style=\"text-align: right;\">                 2.09174</td><td style=\"text-align: right;\"> 1.44628</td><td style=\"text-align: right;\">  2.09174</td><td style=\"text-align: right;\">0.971005</td><td style=\"text-align: right;\">0.0707969</td></tr>\n",
       "<tr><td>XGBoost_grid_1_AutoML_20181115_214601_model_7      </td><td style=\"text-align: right;\">                 2.09351</td><td style=\"text-align: right;\"> 1.4469 </td><td style=\"text-align: right;\">  2.09351</td><td style=\"text-align: right;\">0.978014</td><td style=\"text-align: right;\">0.0706108</td></tr>\n",
       "<tr><td>XGBoost_grid_1_AutoML_20181115_214601_model_3      </td><td style=\"text-align: right;\">                 2.09406</td><td style=\"text-align: right;\"> 1.44709</td><td style=\"text-align: right;\">  2.09406</td><td style=\"text-align: right;\">0.975343</td><td style=\"text-align: right;\">0.0706599</td></tr>\n",
       "<tr><td>GBM_3_AutoML_20181115_232552                       </td><td style=\"text-align: right;\">                 2.10048</td><td style=\"text-align: right;\"> 1.4493 </td><td style=\"text-align: right;\">  2.10048</td><td style=\"text-align: right;\">0.97132 </td><td style=\"text-align: right;\">0.0708947</td></tr>\n",
       "<tr><td>GBM_3_AutoML_20181115_204202                       </td><td style=\"text-align: right;\">                 2.10555</td><td style=\"text-align: right;\"> 1.45105</td><td style=\"text-align: right;\">  2.10555</td><td style=\"text-align: right;\">0.972331</td><td style=\"text-align: right;\">0.0710522</td></tr>\n",
       "<tr><td>GBM_3_AutoML_20181115_214601                       </td><td style=\"text-align: right;\">                 2.10555</td><td style=\"text-align: right;\"> 1.45105</td><td style=\"text-align: right;\">  2.10555</td><td style=\"text-align: right;\">0.972331</td><td style=\"text-align: right;\">0.0710522</td></tr>\n",
       "<tr><td>GBM_4_AutoML_20181115_214601                       </td><td style=\"text-align: right;\">                 2.10582</td><td style=\"text-align: right;\"> 1.45114</td><td style=\"text-align: right;\">  2.10582</td><td style=\"text-align: right;\">0.974248</td><td style=\"text-align: right;\">0.0710378</td></tr>\n",
       "<tr><td>GBM_4_AutoML_20181115_204202                       </td><td style=\"text-align: right;\">                 2.10582</td><td style=\"text-align: right;\"> 1.45114</td><td style=\"text-align: right;\">  2.10582</td><td style=\"text-align: right;\">0.974248</td><td style=\"text-align: right;\">0.0710378</td></tr>\n",
       "<tr><td>XGBoost_grid_1_AutoML_20181115_214601_model_1      </td><td style=\"text-align: right;\">                 2.10596</td><td style=\"text-align: right;\"> 1.45119</td><td style=\"text-align: right;\">  2.10596</td><td style=\"text-align: right;\">0.974205</td><td style=\"text-align: right;\">0.07072  </td></tr>\n",
       "<tr><td>DeepLearning_grid_1_AutoML_20181115_204202_model_1 </td><td style=\"text-align: right;\">                 2.1069 </td><td style=\"text-align: right;\"> 1.45152</td><td style=\"text-align: right;\">  2.1069 </td><td style=\"text-align: right;\">0.992472</td><td style=\"text-align: right;\">0.070945 </td></tr>\n",
       "<tr><td>DeepLearning_grid_1_AutoML_20181115_204202_model_2 </td><td style=\"text-align: right;\">                 2.10697</td><td style=\"text-align: right;\"> 1.45154</td><td style=\"text-align: right;\">  2.10697</td><td style=\"text-align: right;\">0.997469</td><td style=\"text-align: right;\">0.0710622</td></tr>\n",
       "<tr><td>XRT_1_AutoML_20181115_204202                       </td><td style=\"text-align: right;\">                 2.11297</td><td style=\"text-align: right;\"> 1.45361</td><td style=\"text-align: right;\">  2.11297</td><td style=\"text-align: right;\">0.972661</td><td style=\"text-align: right;\">0.0710769</td></tr>\n",
       "<tr><td>XRT_1_AutoML_20181115_214601                       </td><td style=\"text-align: right;\">                 2.11297</td><td style=\"text-align: right;\"> 1.45361</td><td style=\"text-align: right;\">  2.11297</td><td style=\"text-align: right;\">0.972661</td><td style=\"text-align: right;\">0.0710769</td></tr>\n",
       "<tr><td>DeepLearning_1_AutoML_20181115_232552              </td><td style=\"text-align: right;\">                 2.11304</td><td style=\"text-align: right;\"> 1.45363</td><td style=\"text-align: right;\">  2.11304</td><td style=\"text-align: right;\">0.99646 </td><td style=\"text-align: right;\">0.0709849</td></tr>\n",
       "<tr><td>DeepLearning_grid_1_AutoML_20181115_214601_model_4 </td><td style=\"text-align: right;\">                 2.11552</td><td style=\"text-align: right;\"> 1.45448</td><td style=\"text-align: right;\">  2.11552</td><td style=\"text-align: right;\">0.995915</td><td style=\"text-align: right;\">0.0711169</td></tr>\n",
       "<tr><td>XGBoost_1_AutoML_20181115_214601                   </td><td style=\"text-align: right;\">                 2.12132</td><td style=\"text-align: right;\"> 1.45648</td><td style=\"text-align: right;\">  2.12132</td><td style=\"text-align: right;\">0.979301</td><td style=\"text-align: right;\">0.0710996</td></tr>\n",
       "<tr><td>XGBoost_1_AutoML_20181115_204202                   </td><td style=\"text-align: right;\">                 2.12132</td><td style=\"text-align: right;\"> 1.45648</td><td style=\"text-align: right;\">  2.12132</td><td style=\"text-align: right;\">0.979301</td><td style=\"text-align: right;\">0.0710996</td></tr>\n",
       "<tr><td>XGBoost_1_AutoML_20181115_232552                   </td><td style=\"text-align: right;\">                 2.12853</td><td style=\"text-align: right;\"> 1.45895</td><td style=\"text-align: right;\">  2.12853</td><td style=\"text-align: right;\">0.98031 </td><td style=\"text-align: right;\">0.071247 </td></tr>\n",
       "<tr><td>DRF_1_AutoML_20181115_232552                       </td><td style=\"text-align: right;\">                 2.13259</td><td style=\"text-align: right;\"> 1.46034</td><td style=\"text-align: right;\">  2.13259</td><td style=\"text-align: right;\">0.978435</td><td style=\"text-align: right;\">0.0715107</td></tr>\n",
       "<tr><td>XGBoost_grid_1_AutoML_20181115_214601_model_5      </td><td style=\"text-align: right;\">                 2.13773</td><td style=\"text-align: right;\"> 1.4621 </td><td style=\"text-align: right;\">  2.13773</td><td style=\"text-align: right;\">0.98811 </td><td style=\"text-align: right;\">0.0715451</td></tr>\n",
       "<tr><td>DRF_1_AutoML_20181115_204202                       </td><td style=\"text-align: right;\">                 2.14158</td><td style=\"text-align: right;\"> 1.46341</td><td style=\"text-align: right;\">  2.14158</td><td style=\"text-align: right;\">0.979838</td><td style=\"text-align: right;\">0.0715577</td></tr>\n",
       "<tr><td>DRF_1_AutoML_20181115_214601                       </td><td style=\"text-align: right;\">                 2.14158</td><td style=\"text-align: right;\"> 1.46341</td><td style=\"text-align: right;\">  2.14158</td><td style=\"text-align: right;\">0.979838</td><td style=\"text-align: right;\">0.0715577</td></tr>\n",
       "<tr><td>XGBoost_grid_1_AutoML_20181115_214601_model_13     </td><td style=\"text-align: right;\">                 2.14742</td><td style=\"text-align: right;\"> 1.46541</td><td style=\"text-align: right;\">  2.14742</td><td style=\"text-align: right;\">0.993836</td><td style=\"text-align: right;\">0.0714032</td></tr>\n",
       "<tr><td>XGBoost_2_AutoML_20181115_232552                   </td><td style=\"text-align: right;\">                 2.14777</td><td style=\"text-align: right;\"> 1.46553</td><td style=\"text-align: right;\">  2.14777</td><td style=\"text-align: right;\">0.993355</td><td style=\"text-align: right;\">0.0715387</td></tr>\n",
       "<tr><td>XGBoost_grid_1_AutoML_20181115_204202_model_3      </td><td style=\"text-align: right;\">                 2.17179</td><td style=\"text-align: right;\"> 1.4737 </td><td style=\"text-align: right;\">  2.17179</td><td style=\"text-align: right;\">1.00268 </td><td style=\"text-align: right;\">0.0720837</td></tr>\n",
       "<tr><td>XGBoost_grid_1_AutoML_20181115_214601_model_6      </td><td style=\"text-align: right;\">                 2.17473</td><td style=\"text-align: right;\"> 1.4747 </td><td style=\"text-align: right;\">  2.17473</td><td style=\"text-align: right;\">1.0043  </td><td style=\"text-align: right;\">0.0719935</td></tr>\n",
       "<tr><td>DeepLearning_grid_1_AutoML_20181115_214601_model_7 </td><td style=\"text-align: right;\">                 2.17479</td><td style=\"text-align: right;\"> 1.47472</td><td style=\"text-align: right;\">  2.17479</td><td style=\"text-align: right;\">0.998711</td><td style=\"text-align: right;\">0.0720835</td></tr>\n",
       "<tr><td>DeepLearning_grid_1_AutoML_20181115_232552_model_2 </td><td style=\"text-align: right;\">                 2.17836</td><td style=\"text-align: right;\"> 1.47593</td><td style=\"text-align: right;\">  2.17836</td><td style=\"text-align: right;\">1.01187 </td><td style=\"text-align: right;\">0.0721027</td></tr>\n",
       "<tr><td>XGBoost_grid_1_AutoML_20181115_214601_model_8      </td><td style=\"text-align: right;\">                 2.17974</td><td style=\"text-align: right;\"> 1.47639</td><td style=\"text-align: right;\">  2.17974</td><td style=\"text-align: right;\">0.985361</td><td style=\"text-align: right;\">0.072058 </td></tr>\n",
       "<tr><td>XGBoost_2_AutoML_20181115_204202                   </td><td style=\"text-align: right;\">                 2.17999</td><td style=\"text-align: right;\"> 1.47648</td><td style=\"text-align: right;\">  2.17999</td><td style=\"text-align: right;\">1.00469 </td><td style=\"text-align: right;\">0.0720301</td></tr>\n",
       "<tr><td>XGBoost_2_AutoML_20181115_214601                   </td><td style=\"text-align: right;\">                 2.17999</td><td style=\"text-align: right;\"> 1.47648</td><td style=\"text-align: right;\">  2.17999</td><td style=\"text-align: right;\">1.00469 </td><td style=\"text-align: right;\">0.0720301</td></tr>\n",
       "<tr><td>XGBoost_grid_1_AutoML_20181115_214601_model_2      </td><td style=\"text-align: right;\">                 2.18283</td><td style=\"text-align: right;\"> 1.47744</td><td style=\"text-align: right;\">  2.18283</td><td style=\"text-align: right;\">1.00476 </td><td style=\"text-align: right;\">0.0721951</td></tr>\n",
       "<tr><td>XGBoost_grid_1_AutoML_20181115_204202_model_1      </td><td style=\"text-align: right;\">                 2.18816</td><td style=\"text-align: right;\"> 1.47924</td><td style=\"text-align: right;\">  2.18816</td><td style=\"text-align: right;\">0.994826</td><td style=\"text-align: right;\">0.0720813</td></tr>\n",
       "<tr><td>XGBoost_grid_1_AutoML_20181115_214601_model_15     </td><td style=\"text-align: right;\">                 2.1904 </td><td style=\"text-align: right;\"> 1.48   </td><td style=\"text-align: right;\">  2.1904 </td><td style=\"text-align: right;\">1.00843 </td><td style=\"text-align: right;\">0.0722713</td></tr>\n",
       "<tr><td>DeepLearning_grid_1_AutoML_20181115_214601_model_5 </td><td style=\"text-align: right;\">                 2.19209</td><td style=\"text-align: right;\"> 1.48057</td><td style=\"text-align: right;\">  2.19209</td><td style=\"text-align: right;\">1.03994 </td><td style=\"text-align: right;\">0.0723879</td></tr>\n",
       "<tr><td>XGBoost_grid_1_AutoML_20181115_232552_model_1      </td><td style=\"text-align: right;\">                 2.20435</td><td style=\"text-align: right;\"> 1.4847 </td><td style=\"text-align: right;\">  2.20435</td><td style=\"text-align: right;\">0.996788</td><td style=\"text-align: right;\">0.0722598</td></tr>\n",
       "<tr><td>XGBoost_3_AutoML_20181115_204202                   </td><td style=\"text-align: right;\">                 2.20541</td><td style=\"text-align: right;\"> 1.48506</td><td style=\"text-align: right;\">  2.20541</td><td style=\"text-align: right;\">1.01021 </td><td style=\"text-align: right;\">0.0724558</td></tr>\n",
       "<tr><td>XGBoost_3_AutoML_20181115_214601                   </td><td style=\"text-align: right;\">                 2.20541</td><td style=\"text-align: right;\"> 1.48506</td><td style=\"text-align: right;\">  2.20541</td><td style=\"text-align: right;\">1.01021 </td><td style=\"text-align: right;\">0.0724558</td></tr>\n",
       "<tr><td>DeepLearning_grid_1_AutoML_20181115_214601_model_6 </td><td style=\"text-align: right;\">                 2.20594</td><td style=\"text-align: right;\"> 1.48524</td><td style=\"text-align: right;\">  2.20594</td><td style=\"text-align: right;\">1.0081  </td><td style=\"text-align: right;\">0.0724565</td></tr>\n",
       "<tr><td>XGBoost_grid_1_AutoML_20181115_232552_model_3      </td><td style=\"text-align: right;\">                 2.21089</td><td style=\"text-align: right;\"> 1.4869 </td><td style=\"text-align: right;\">  2.21089</td><td style=\"text-align: right;\">1.00401 </td><td style=\"text-align: right;\">0.0726284</td></tr>\n",
       "<tr><td>XGBoost_grid_1_AutoML_20181115_214601_model_19     </td><td style=\"text-align: right;\">                 2.21529</td><td style=\"text-align: right;\"> 1.48838</td><td style=\"text-align: right;\">  2.21529</td><td style=\"text-align: right;\">1.00902 </td><td style=\"text-align: right;\">0.0725339</td></tr>\n",
       "<tr><td>XGBoost_grid_1_AutoML_20181115_214601_model_9      </td><td style=\"text-align: right;\">                 2.21676</td><td style=\"text-align: right;\"> 1.48888</td><td style=\"text-align: right;\">  2.21676</td><td style=\"text-align: right;\">1.00704 </td><td style=\"text-align: right;\">0.0725247</td></tr>\n",
       "<tr><td>XGBoost_grid_1_AutoML_20181115_214601_model_16     </td><td style=\"text-align: right;\">                 2.21978</td><td style=\"text-align: right;\"> 1.48989</td><td style=\"text-align: right;\">  2.21978</td><td style=\"text-align: right;\">1.01517 </td><td style=\"text-align: right;\">0.0726492</td></tr>\n",
       "<tr><td>DeepLearning_grid_1_AutoML_20181115_232552_model_1 </td><td style=\"text-align: right;\">                 2.22285</td><td style=\"text-align: right;\"> 1.49092</td><td style=\"text-align: right;\">  2.22285</td><td style=\"text-align: right;\">1.03225 </td><td style=\"text-align: right;\">0.0730414</td></tr>\n",
       "<tr><td>XGBoost_3_AutoML_20181115_232552                   </td><td style=\"text-align: right;\">                 2.22483</td><td style=\"text-align: right;\"> 1.49159</td><td style=\"text-align: right;\">  2.22483</td><td style=\"text-align: right;\">1.01352 </td><td style=\"text-align: right;\">0.0727859</td></tr>\n",
       "<tr><td>DeepLearning_grid_1_AutoML_20181115_214601_model_16</td><td style=\"text-align: right;\">                 2.23059</td><td style=\"text-align: right;\"> 1.49352</td><td style=\"text-align: right;\">  2.23059</td><td style=\"text-align: right;\">1.00295 </td><td style=\"text-align: right;\">0.0729655</td></tr>\n",
       "<tr><td>DeepLearning_grid_1_AutoML_20181115_214601_model_15</td><td style=\"text-align: right;\">                 2.25387</td><td style=\"text-align: right;\"> 1.50129</td><td style=\"text-align: right;\">  2.25387</td><td style=\"text-align: right;\">1.01146 </td><td style=\"text-align: right;\">0.0732719</td></tr>\n",
       "<tr><td>DeepLearning_grid_1_AutoML_20181115_214601_model_17</td><td style=\"text-align: right;\">                 2.42157</td><td style=\"text-align: right;\"> 1.55614</td><td style=\"text-align: right;\">  2.42157</td><td style=\"text-align: right;\">1.0457  </td><td style=\"text-align: right;\">0.0758759</td></tr>\n",
       "<tr><td>GBM_grid_1_AutoML_20181115_214601_model_6          </td><td style=\"text-align: right;\">                 2.62668</td><td style=\"text-align: right;\"> 1.6207 </td><td style=\"text-align: right;\">  2.62668</td><td style=\"text-align: right;\">1.12546 </td><td style=\"text-align: right;\">0.0788827</td></tr>\n",
       "<tr><td>DeepLearning_grid_1_AutoML_20181115_214601_model_9 </td><td style=\"text-align: right;\">                 2.72562</td><td style=\"text-align: right;\"> 1.65095</td><td style=\"text-align: right;\">  2.72562</td><td style=\"text-align: right;\">1.07446 </td><td style=\"text-align: right;\">0.0802357</td></tr>\n",
       "<tr><td>GBM_grid_1_AutoML_20181115_232552_model_1          </td><td style=\"text-align: right;\">                 2.76641</td><td style=\"text-align: right;\"> 1.66325</td><td style=\"text-align: right;\">  2.76641</td><td style=\"text-align: right;\">1.13933 </td><td style=\"text-align: right;\">0.0810269</td></tr>\n",
       "<tr><td>GBM_grid_1_AutoML_20181115_204202_model_1          </td><td style=\"text-align: right;\">                 2.85224</td><td style=\"text-align: right;\"> 1.68886</td><td style=\"text-align: right;\">  2.85224</td><td style=\"text-align: right;\">1.16    </td><td style=\"text-align: right;\">0.0822992</td></tr>\n",
       "<tr><td>GBM_grid_1_AutoML_20181115_214601_model_7          </td><td style=\"text-align: right;\">                 6.19396</td><td style=\"text-align: right;\"> 2.48877</td><td style=\"text-align: right;\">  6.19396</td><td style=\"text-align: right;\">1.67193 </td><td style=\"text-align: right;\">0.125913 </td></tr>\n",
       "<tr><td>XGBoost_grid_1_AutoML_20181115_214601_model_18     </td><td style=\"text-align: right;\">                21.2213 </td><td style=\"text-align: right;\"> 4.60665</td><td style=\"text-align: right;\"> 21.2213 </td><td style=\"text-align: right;\">1.95136 </td><td style=\"text-align: right;\">0.592129 </td></tr>\n",
       "<tr><td>XGBoost_grid_1_AutoML_20181115_214601_model_4      </td><td style=\"text-align: right;\">                92.3669 </td><td style=\"text-align: right;\"> 9.61077</td><td style=\"text-align: right;\"> 92.3669 </td><td style=\"text-align: right;\">5.44135 </td><td style=\"text-align: right;\">1.28609  </td></tr>\n",
       "<tr><td>XGBoost_grid_1_AutoML_20181115_214601_model_11     </td><td style=\"text-align: right;\">                99.4443 </td><td style=\"text-align: right;\"> 9.97217</td><td style=\"text-align: right;\"> 99.4443 </td><td style=\"text-align: right;\">5.79821 </td><td style=\"text-align: right;\">1.33346  </td></tr>\n",
       "<tr><td>XGBoost_grid_1_AutoML_20181115_214601_model_12     </td><td style=\"text-align: right;\">               123.814  </td><td style=\"text-align: right;\">11.1272 </td><td style=\"text-align: right;\">123.814  </td><td style=\"text-align: right;\">6.92754 </td><td style=\"text-align: right;\">1.49041  </td></tr>\n",
       "</tbody>\n",
       "</table>"
      ]
     },
     "metadata": {},
     "output_type": "display_data"
    },
    {
     "data": {
      "text/plain": []
     },
     "execution_count": 48,
     "metadata": {},
     "output_type": "execute_result"
    }
   ],
   "source": [
    "lb = aml20num.leaderboard\n",
    "# Print all rows instead of default (10 rows)\n",
    "lb.head(rows=lb.nrows) "
   ]
  },
  {
   "cell_type": "markdown",
   "metadata": {},
   "source": [
    "### Best Model Score - MAE = 0.968196242011554"
   ]
  },
  {
   "cell_type": "code",
   "execution_count": 49,
   "metadata": {},
   "outputs": [
    {
     "name": "stdout",
     "output_type": "stream",
     "text": [
      "\n",
      "ModelMetricsRegression: gbm\n",
      "** Reported on test data. **\n",
      "\n",
      "MSE: 1.9866142867408734\n",
      "RMSE: 1.4094730528608461\n",
      "MAE: 0.968196242011554\n",
      "RMSLE: 0.06988011858699726\n",
      "Mean Residual Deviance: 1.9866142867408734\n"
     ]
    },
    {
     "data": {
      "text/plain": []
     },
     "execution_count": 49,
     "metadata": {},
     "output_type": "execute_result"
    }
   ],
   "source": [
    "perf = aml20num.leader.model_performance(test)\n",
    "perf"
   ]
  },
  {
   "cell_type": "markdown",
   "metadata": {},
   "source": [
    "## Running on only categorical data"
   ]
  },
  {
   "cell_type": "code",
   "execution_count": 18,
   "metadata": {},
   "outputs": [],
   "source": [
    "x = train.columns\n",
    "z=re.compile(\".*(cat).*\")\n",
    "x = list(filter(z.match, x))\n",
    "y = 'target'"
   ]
  },
  {
   "cell_type": "markdown",
   "metadata": {},
   "source": [
    "### Run AutoML for 20 base models (limited to 1 hour max runtime by default)"
   ]
  },
  {
   "cell_type": "code",
   "execution_count": 19,
   "metadata": {},
   "outputs": [
    {
     "name": "stdout",
     "output_type": "stream",
     "text": [
      "AutoML progress: |████████████████████████████████████████████████████████| 100%\n"
     ]
    }
   ],
   "source": [
    "aml20cat = H2OAutoML(max_models=20, seed=303)\n",
    "aml20cat.train(x=x, y=y, training_frame=train)"
   ]
  },
  {
   "cell_type": "markdown",
   "metadata": {},
   "source": [
    "### View the AutoML Leaderboard"
   ]
  },
  {
   "cell_type": "code",
   "execution_count": 20,
   "metadata": {},
   "outputs": [
    {
     "data": {
      "text/html": [
       "<table>\n",
       "<thead>\n",
       "<tr><th>model_id                                           </th><th style=\"text-align: right;\">  mean_residual_deviance</th><th style=\"text-align: right;\">   rmse</th><th style=\"text-align: right;\">    mse</th><th style=\"text-align: right;\">     mae</th><th style=\"text-align: right;\">    rmsle</th></tr>\n",
       "</thead>\n",
       "<tbody>\n",
       "<tr><td>StackedEnsemble_AllModels_AutoML_20181116_093647   </td><td style=\"text-align: right;\">                 2.01926</td><td style=\"text-align: right;\">1.42101</td><td style=\"text-align: right;\">2.01926</td><td style=\"text-align: right;\">0.954764</td><td style=\"text-align: right;\">0.0695786</td></tr>\n",
       "<tr><td>GLM_grid_1_AutoML_20181116_093647_model_1          </td><td style=\"text-align: right;\">                 2.01939</td><td style=\"text-align: right;\">1.42105</td><td style=\"text-align: right;\">2.01939</td><td style=\"text-align: right;\">0.954955</td><td style=\"text-align: right;\">0.0695784</td></tr>\n",
       "<tr><td>StackedEnsemble_BestOfFamily_AutoML_20181116_093647</td><td style=\"text-align: right;\">                 2.01971</td><td style=\"text-align: right;\">1.42117</td><td style=\"text-align: right;\">2.01971</td><td style=\"text-align: right;\">0.954716</td><td style=\"text-align: right;\">0.0695889</td></tr>\n",
       "<tr><td>GBM_grid_1_AutoML_20181116_093647_model_2          </td><td style=\"text-align: right;\">                 2.022  </td><td style=\"text-align: right;\">1.42197</td><td style=\"text-align: right;\">2.022  </td><td style=\"text-align: right;\">0.956032</td><td style=\"text-align: right;\">0.0696179</td></tr>\n",
       "<tr><td>XGBoost_grid_1_AutoML_20181116_093647_model_4      </td><td style=\"text-align: right;\">                 2.03137</td><td style=\"text-align: right;\">1.42526</td><td style=\"text-align: right;\">2.03137</td><td style=\"text-align: right;\">0.963582</td><td style=\"text-align: right;\">0.0697172</td></tr>\n",
       "<tr><td>DeepLearning_grid_1_AutoML_20181116_093647_model_2 </td><td style=\"text-align: right;\">                 2.03328</td><td style=\"text-align: right;\">1.42593</td><td style=\"text-align: right;\">2.03328</td><td style=\"text-align: right;\">0.963965</td><td style=\"text-align: right;\">0.0697231</td></tr>\n",
       "<tr><td>DeepLearning_1_AutoML_20181116_093647              </td><td style=\"text-align: right;\">                 2.0372 </td><td style=\"text-align: right;\">1.4273 </td><td style=\"text-align: right;\">2.0372 </td><td style=\"text-align: right;\">0.963814</td><td style=\"text-align: right;\">0.0698346</td></tr>\n",
       "<tr><td>GBM_5_AutoML_20181116_093647                       </td><td style=\"text-align: right;\">                 2.03846</td><td style=\"text-align: right;\">1.42775</td><td style=\"text-align: right;\">2.03846</td><td style=\"text-align: right;\">0.965521</td><td style=\"text-align: right;\">0.0698872</td></tr>\n",
       "<tr><td>XGBoost_grid_1_AutoML_20181116_093647_model_2      </td><td style=\"text-align: right;\">                 2.03973</td><td style=\"text-align: right;\">1.42819</td><td style=\"text-align: right;\">2.03973</td><td style=\"text-align: right;\">0.968868</td><td style=\"text-align: right;\">0.0698371</td></tr>\n",
       "<tr><td>DeepLearning_grid_1_AutoML_20181116_093647_model_1 </td><td style=\"text-align: right;\">                 2.05162</td><td style=\"text-align: right;\">1.43235</td><td style=\"text-align: right;\">2.05162</td><td style=\"text-align: right;\">0.979734</td><td style=\"text-align: right;\">0.0699559</td></tr>\n",
       "<tr><td>GBM_2_AutoML_20181116_093647                       </td><td style=\"text-align: right;\">                 2.06598</td><td style=\"text-align: right;\">1.43735</td><td style=\"text-align: right;\">2.06598</td><td style=\"text-align: right;\">0.979048</td><td style=\"text-align: right;\">0.0703174</td></tr>\n",
       "<tr><td>GBM_3_AutoML_20181116_093647                       </td><td style=\"text-align: right;\">                 2.06687</td><td style=\"text-align: right;\">1.43766</td><td style=\"text-align: right;\">2.06687</td><td style=\"text-align: right;\">0.980774</td><td style=\"text-align: right;\">0.0703225</td></tr>\n",
       "<tr><td>GBM_1_AutoML_20181116_093647                       </td><td style=\"text-align: right;\">                 2.07391</td><td style=\"text-align: right;\">1.44011</td><td style=\"text-align: right;\">2.07391</td><td style=\"text-align: right;\">0.983331</td><td style=\"text-align: right;\">0.07046  </td></tr>\n",
       "<tr><td>GBM_4_AutoML_20181116_093647                       </td><td style=\"text-align: right;\">                 2.07938</td><td style=\"text-align: right;\">1.442  </td><td style=\"text-align: right;\">2.07938</td><td style=\"text-align: right;\">0.986779</td><td style=\"text-align: right;\">0.0705203</td></tr>\n",
       "<tr><td>XGBoost_1_AutoML_20181116_093647                   </td><td style=\"text-align: right;\">                 2.07948</td><td style=\"text-align: right;\">1.44204</td><td style=\"text-align: right;\">2.07948</td><td style=\"text-align: right;\">0.985911</td><td style=\"text-align: right;\">0.0704942</td></tr>\n",
       "<tr><td>XRT_1_AutoML_20181116_093647                       </td><td style=\"text-align: right;\">                 2.10532</td><td style=\"text-align: right;\">1.45097</td><td style=\"text-align: right;\">2.10532</td><td style=\"text-align: right;\">0.996793</td><td style=\"text-align: right;\">0.0709301</td></tr>\n",
       "<tr><td>XGBoost_3_AutoML_20181116_093647                   </td><td style=\"text-align: right;\">                 2.109  </td><td style=\"text-align: right;\">1.45224</td><td style=\"text-align: right;\">2.109  </td><td style=\"text-align: right;\">1.00126 </td><td style=\"text-align: right;\">0.0708868</td></tr>\n",
       "<tr><td>XGBoost_2_AutoML_20181116_093647                   </td><td style=\"text-align: right;\">                 2.11672</td><td style=\"text-align: right;\">1.4549 </td><td style=\"text-align: right;\">2.11672</td><td style=\"text-align: right;\">1.00252 </td><td style=\"text-align: right;\">0.0710208</td></tr>\n",
       "<tr><td>GBM_grid_1_AutoML_20181116_093647_model_1          </td><td style=\"text-align: right;\">                 2.12033</td><td style=\"text-align: right;\">1.45614</td><td style=\"text-align: right;\">2.12033</td><td style=\"text-align: right;\">1.00517 </td><td style=\"text-align: right;\">0.0711643</td></tr>\n",
       "<tr><td>DRF_1_AutoML_20181116_093647                       </td><td style=\"text-align: right;\">                 2.12495</td><td style=\"text-align: right;\">1.45772</td><td style=\"text-align: right;\">2.12495</td><td style=\"text-align: right;\">1.00731 </td><td style=\"text-align: right;\">0.0712494</td></tr>\n",
       "<tr><td>XGBoost_grid_1_AutoML_20181116_093647_model_1      </td><td style=\"text-align: right;\">                 2.13061</td><td style=\"text-align: right;\">1.45966</td><td style=\"text-align: right;\">2.13061</td><td style=\"text-align: right;\">1.00551 </td><td style=\"text-align: right;\">0.0713105</td></tr>\n",
       "<tr><td>XGBoost_grid_1_AutoML_20181116_093647_model_3      </td><td style=\"text-align: right;\">                 2.25497</td><td style=\"text-align: right;\">1.50166</td><td style=\"text-align: right;\">2.25497</td><td style=\"text-align: right;\">1.04315 </td><td style=\"text-align: right;\">0.0733381</td></tr>\n",
       "</tbody>\n",
       "</table>"
      ]
     },
     "metadata": {},
     "output_type": "display_data"
    },
    {
     "data": {
      "text/plain": []
     },
     "execution_count": 20,
     "metadata": {},
     "output_type": "execute_result"
    }
   ],
   "source": [
    "lb = aml20cat.leaderboard\n",
    "# Print all rows instead of default (10 rows)\n",
    "lb.head(rows=lb.nrows) "
   ]
  },
  {
   "cell_type": "markdown",
   "metadata": {},
   "source": [
    "### Best Model Score - MAE = 0.9700703352714898"
   ]
  },
  {
   "cell_type": "code",
   "execution_count": 22,
   "metadata": {},
   "outputs": [
    {
     "name": "stdout",
     "output_type": "stream",
     "text": [
      "\n",
      "ModelMetricsRegressionGLM: stackedensemble\n",
      "** Reported on test data. **\n",
      "\n",
      "MSE: 1.99701691995226\n",
      "RMSE: 1.4131584907406034\n",
      "MAE: 0.9700703352714898\n",
      "RMSLE: 0.07000376486213895\n",
      "R^2: -0.00015864022732947625\n",
      "Mean Residual Deviance: 1.99701691995226\n",
      "Null degrees of freedom: 1269\n",
      "Residual degrees of freedom: 1269\n",
      "Null deviance: 2536.21148833937\n",
      "Residual deviance: 2536.21148833937\n",
      "AIC: 4486.505123735206\n"
     ]
    },
    {
     "data": {
      "text/plain": []
     },
     "execution_count": 22,
     "metadata": {},
     "output_type": "execute_result"
    }
   ],
   "source": [
    "perf = aml20cat.leader.model_performance(test)\n",
    "perf"
   ]
  },
  {
   "cell_type": "markdown",
   "metadata": {},
   "source": [
    "## Use valid data to drive leaderboard"
   ]
  },
  {
   "cell_type": "code",
   "execution_count": 23,
   "metadata": {},
   "outputs": [],
   "source": [
    "x = train.columns\n",
    "y = 'target'\n",
    "x.remove(y)"
   ]
  },
  {
   "cell_type": "markdown",
   "metadata": {},
   "source": [
    "### Run AutoML for 20 base models (limited to 1 hour max runtime by default)"
   ]
  },
  {
   "cell_type": "code",
   "execution_count": 24,
   "metadata": {},
   "outputs": [
    {
     "name": "stdout",
     "output_type": "stream",
     "text": [
      "AutoML progress: |████████████████████████████████████████████████████████| 100%\n"
     ]
    }
   ],
   "source": [
    "aml20 = H2OAutoML(max_models=20, seed=303)\n",
    "aml20.train(x=x, y=y, training_frame=train,leaderboard_frame=test)"
   ]
  },
  {
   "cell_type": "markdown",
   "metadata": {},
   "source": [
    "### View the AutoML Leaderboard"
   ]
  },
  {
   "cell_type": "code",
   "execution_count": 25,
   "metadata": {},
   "outputs": [
    {
     "data": {
      "text/html": [
       "<table>\n",
       "<thead>\n",
       "<tr><th>model_id                                           </th><th style=\"text-align: right;\">  mean_residual_deviance</th><th style=\"text-align: right;\">   rmse</th><th style=\"text-align: right;\">    mse</th><th style=\"text-align: right;\">     mae</th><th style=\"text-align: right;\">    rmsle</th></tr>\n",
       "</thead>\n",
       "<tbody>\n",
       "<tr><td>GBM_grid_1_AutoML_20181116_100849_model_2          </td><td style=\"text-align: right;\">                 1.98774</td><td style=\"text-align: right;\">1.40987</td><td style=\"text-align: right;\">1.98774</td><td style=\"text-align: right;\">0.96833 </td><td style=\"text-align: right;\">0.0698914</td></tr>\n",
       "<tr><td>GLM_grid_1_AutoML_20181116_100849_model_1          </td><td style=\"text-align: right;\">                 1.98948</td><td style=\"text-align: right;\">1.41049</td><td style=\"text-align: right;\">1.98948</td><td style=\"text-align: right;\">0.967798</td><td style=\"text-align: right;\">0.0699573</td></tr>\n",
       "<tr><td>StackedEnsemble_AllModels_AutoML_20181116_093647   </td><td style=\"text-align: right;\">                 1.99702</td><td style=\"text-align: right;\">1.41316</td><td style=\"text-align: right;\">1.99702</td><td style=\"text-align: right;\">0.97007 </td><td style=\"text-align: right;\">0.0700038</td></tr>\n",
       "<tr><td>StackedEnsemble_BestOfFamily_AutoML_20181116_093647</td><td style=\"text-align: right;\">                 1.99702</td><td style=\"text-align: right;\">1.41316</td><td style=\"text-align: right;\">1.99702</td><td style=\"text-align: right;\">0.970068</td><td style=\"text-align: right;\">0.070004 </td></tr>\n",
       "<tr><td>GLM_grid_1_AutoML_20181116_093647_model_1          </td><td style=\"text-align: right;\">                 1.99772</td><td style=\"text-align: right;\">1.41341</td><td style=\"text-align: right;\">1.99772</td><td style=\"text-align: right;\">0.970059</td><td style=\"text-align: right;\">0.0700145</td></tr>\n",
       "<tr><td>GBM_grid_1_AutoML_20181116_093647_model_2          </td><td style=\"text-align: right;\">                 1.99986</td><td style=\"text-align: right;\">1.41416</td><td style=\"text-align: right;\">1.99986</td><td style=\"text-align: right;\">0.970658</td><td style=\"text-align: right;\">0.0700523</td></tr>\n",
       "<tr><td>GBM_1_AutoML_20181116_100849                       </td><td style=\"text-align: right;\">                 2.00402</td><td style=\"text-align: right;\">1.41563</td><td style=\"text-align: right;\">2.00402</td><td style=\"text-align: right;\">0.972821</td><td style=\"text-align: right;\">0.0699057</td></tr>\n",
       "<tr><td>XGBoost_grid_1_AutoML_20181116_093647_model_4      </td><td style=\"text-align: right;\">                 2.01123</td><td style=\"text-align: right;\">1.41818</td><td style=\"text-align: right;\">2.01123</td><td style=\"text-align: right;\">0.973832</td><td style=\"text-align: right;\">0.0701905</td></tr>\n",
       "<tr><td>GBM_5_AutoML_20181116_100849                       </td><td style=\"text-align: right;\">                 2.01639</td><td style=\"text-align: right;\">1.42   </td><td style=\"text-align: right;\">2.01639</td><td style=\"text-align: right;\">0.979316</td><td style=\"text-align: right;\">0.0704682</td></tr>\n",
       "<tr><td>XGBoost_grid_1_AutoML_20181116_093647_model_2      </td><td style=\"text-align: right;\">                 2.01749</td><td style=\"text-align: right;\">1.42038</td><td style=\"text-align: right;\">2.01749</td><td style=\"text-align: right;\">0.97763 </td><td style=\"text-align: right;\">0.0702798</td></tr>\n",
       "<tr><td>XGBoost_grid_1_AutoML_20181116_100849_model_1      </td><td style=\"text-align: right;\">                 2.01768</td><td style=\"text-align: right;\">1.42045</td><td style=\"text-align: right;\">2.01768</td><td style=\"text-align: right;\">0.975453</td><td style=\"text-align: right;\">0.0705314</td></tr>\n",
       "<tr><td>GBM_2_AutoML_20181116_100849                       </td><td style=\"text-align: right;\">                 2.02076</td><td style=\"text-align: right;\">1.42154</td><td style=\"text-align: right;\">2.02076</td><td style=\"text-align: right;\">0.974947</td><td style=\"text-align: right;\">0.0704552</td></tr>\n",
       "<tr><td>GBM_5_AutoML_20181116_093647                       </td><td style=\"text-align: right;\">                 2.02797</td><td style=\"text-align: right;\">1.42407</td><td style=\"text-align: right;\">2.02797</td><td style=\"text-align: right;\">0.979472</td><td style=\"text-align: right;\">0.0705152</td></tr>\n",
       "<tr><td>XGBoost_grid_1_AutoML_20181116_100849_model_4      </td><td style=\"text-align: right;\">                 2.02845</td><td style=\"text-align: right;\">1.42424</td><td style=\"text-align: right;\">2.02845</td><td style=\"text-align: right;\">0.97485 </td><td style=\"text-align: right;\">0.0704704</td></tr>\n",
       "<tr><td>XGBoost_1_AutoML_20181116_100849                   </td><td style=\"text-align: right;\">                 2.03176</td><td style=\"text-align: right;\">1.4254 </td><td style=\"text-align: right;\">2.03176</td><td style=\"text-align: right;\">0.975574</td><td style=\"text-align: right;\">0.0706023</td></tr>\n",
       "<tr><td>XGBoost_2_AutoML_20181116_100849                   </td><td style=\"text-align: right;\">                 2.04313</td><td style=\"text-align: right;\">1.42938</td><td style=\"text-align: right;\">2.04313</td><td style=\"text-align: right;\">0.990077</td><td style=\"text-align: right;\">0.0707702</td></tr>\n",
       "<tr><td>DeepLearning_1_AutoML_20181116_093647              </td><td style=\"text-align: right;\">                 2.04412</td><td style=\"text-align: right;\">1.42973</td><td style=\"text-align: right;\">2.04412</td><td style=\"text-align: right;\">0.986197</td><td style=\"text-align: right;\">0.0710418</td></tr>\n",
       "<tr><td>GBM_1_AutoML_20181116_093647                       </td><td style=\"text-align: right;\">                 2.0455 </td><td style=\"text-align: right;\">1.43021</td><td style=\"text-align: right;\">2.0455 </td><td style=\"text-align: right;\">0.985396</td><td style=\"text-align: right;\">0.070829 </td></tr>\n",
       "<tr><td>GBM_4_AutoML_20181116_100849                       </td><td style=\"text-align: right;\">                 2.04583</td><td style=\"text-align: right;\">1.43033</td><td style=\"text-align: right;\">2.04583</td><td style=\"text-align: right;\">0.981441</td><td style=\"text-align: right;\">0.0709304</td></tr>\n",
       "<tr><td>GBM_2_AutoML_20181116_093647                       </td><td style=\"text-align: right;\">                 2.04643</td><td style=\"text-align: right;\">1.43053</td><td style=\"text-align: right;\">2.04643</td><td style=\"text-align: right;\">0.984711</td><td style=\"text-align: right;\">0.0708373</td></tr>\n",
       "<tr><td>GBM_3_AutoML_20181116_100849                       </td><td style=\"text-align: right;\">                 2.04658</td><td style=\"text-align: right;\">1.43059</td><td style=\"text-align: right;\">2.04658</td><td style=\"text-align: right;\">0.98534 </td><td style=\"text-align: right;\">0.0707892</td></tr>\n",
       "<tr><td>XGBoost_1_AutoML_20181116_093647                   </td><td style=\"text-align: right;\">                 2.055  </td><td style=\"text-align: right;\">1.43353</td><td style=\"text-align: right;\">2.055  </td><td style=\"text-align: right;\">0.99102 </td><td style=\"text-align: right;\">0.0709299</td></tr>\n",
       "<tr><td>GBM_4_AutoML_20181116_093647                       </td><td style=\"text-align: right;\">                 2.05746</td><td style=\"text-align: right;\">1.43438</td><td style=\"text-align: right;\">2.05746</td><td style=\"text-align: right;\">0.992705</td><td style=\"text-align: right;\">0.0710236</td></tr>\n",
       "<tr><td>GBM_3_AutoML_20181116_093647                       </td><td style=\"text-align: right;\">                 2.05777</td><td style=\"text-align: right;\">1.43449</td><td style=\"text-align: right;\">2.05777</td><td style=\"text-align: right;\">0.990447</td><td style=\"text-align: right;\">0.0710274</td></tr>\n",
       "<tr><td>XRT_1_AutoML_20181116_093647                       </td><td style=\"text-align: right;\">                 2.06391</td><td style=\"text-align: right;\">1.43663</td><td style=\"text-align: right;\">2.06391</td><td style=\"text-align: right;\">1.00317 </td><td style=\"text-align: right;\">0.0710681</td></tr>\n",
       "<tr><td>DeepLearning_1_AutoML_20181116_100849              </td><td style=\"text-align: right;\">                 2.07556</td><td style=\"text-align: right;\">1.44068</td><td style=\"text-align: right;\">2.07556</td><td style=\"text-align: right;\">0.977133</td><td style=\"text-align: right;\">0.0715221</td></tr>\n",
       "<tr><td>XGBoost_3_AutoML_20181116_100849                   </td><td style=\"text-align: right;\">                 2.07719</td><td style=\"text-align: right;\">1.44125</td><td style=\"text-align: right;\">2.07719</td><td style=\"text-align: right;\">1.00084 </td><td style=\"text-align: right;\">0.0713541</td></tr>\n",
       "<tr><td>DRF_1_AutoML_20181116_100849                       </td><td style=\"text-align: right;\">                 2.08393</td><td style=\"text-align: right;\">1.44358</td><td style=\"text-align: right;\">2.08393</td><td style=\"text-align: right;\">0.979029</td><td style=\"text-align: right;\">0.0714599</td></tr>\n",
       "<tr><td>XRT_1_AutoML_20181116_100849                       </td><td style=\"text-align: right;\">                 2.08421</td><td style=\"text-align: right;\">1.44368</td><td style=\"text-align: right;\">2.08421</td><td style=\"text-align: right;\">0.977016</td><td style=\"text-align: right;\">0.0715884</td></tr>\n",
       "<tr><td>GBM_grid_1_AutoML_20181116_093647_model_1          </td><td style=\"text-align: right;\">                 2.085  </td><td style=\"text-align: right;\">1.44395</td><td style=\"text-align: right;\">2.085  </td><td style=\"text-align: right;\">1.0123  </td><td style=\"text-align: right;\">0.0714288</td></tr>\n",
       "<tr><td>XGBoost_2_AutoML_20181116_093647                   </td><td style=\"text-align: right;\">                 2.09171</td><td style=\"text-align: right;\">1.44627</td><td style=\"text-align: right;\">2.09171</td><td style=\"text-align: right;\">1.01129 </td><td style=\"text-align: right;\">0.0715033</td></tr>\n",
       "<tr><td>XGBoost_3_AutoML_20181116_093647                   </td><td style=\"text-align: right;\">                 2.09579</td><td style=\"text-align: right;\">1.44769</td><td style=\"text-align: right;\">2.09579</td><td style=\"text-align: right;\">1.01228 </td><td style=\"text-align: right;\">0.0715757</td></tr>\n",
       "<tr><td>XGBoost_grid_1_AutoML_20181116_100849_model_3      </td><td style=\"text-align: right;\">                 2.10327</td><td style=\"text-align: right;\">1.45027</td><td style=\"text-align: right;\">2.10327</td><td style=\"text-align: right;\">1.01288 </td><td style=\"text-align: right;\">0.071592 </td></tr>\n",
       "<tr><td>XGBoost_grid_1_AutoML_20181116_100849_model_2      </td><td style=\"text-align: right;\">                 2.10373</td><td style=\"text-align: right;\">1.45043</td><td style=\"text-align: right;\">2.10373</td><td style=\"text-align: right;\">0.99702 </td><td style=\"text-align: right;\">0.0717299</td></tr>\n",
       "<tr><td>XGBoost_grid_1_AutoML_20181116_093647_model_1      </td><td style=\"text-align: right;\">                 2.10964</td><td style=\"text-align: right;\">1.45246</td><td style=\"text-align: right;\">2.10964</td><td style=\"text-align: right;\">1.01043 </td><td style=\"text-align: right;\">0.071814 </td></tr>\n",
       "<tr><td>DRF_1_AutoML_20181116_093647                       </td><td style=\"text-align: right;\">                 2.13661</td><td style=\"text-align: right;\">1.46172</td><td style=\"text-align: right;\">2.13661</td><td style=\"text-align: right;\">1.02071 </td><td style=\"text-align: right;\">0.0722761</td></tr>\n",
       "<tr><td>XGBoost_grid_1_AutoML_20181116_093647_model_3      </td><td style=\"text-align: right;\">                 2.24461</td><td style=\"text-align: right;\">1.4982 </td><td style=\"text-align: right;\">2.24461</td><td style=\"text-align: right;\">1.05031 </td><td style=\"text-align: right;\">0.0740466</td></tr>\n",
       "<tr><td>DeepLearning_grid_1_AutoML_20181116_093647_model_2 </td><td style=\"text-align: right;\">                 2.35016</td><td style=\"text-align: right;\">1.53302</td><td style=\"text-align: right;\">2.35016</td><td style=\"text-align: right;\">1.08638 </td><td style=\"text-align: right;\">0.0757519</td></tr>\n",
       "<tr><td>DeepLearning_grid_1_AutoML_20181116_093647_model_1 </td><td style=\"text-align: right;\">                 2.36005</td><td style=\"text-align: right;\">1.53625</td><td style=\"text-align: right;\">2.36005</td><td style=\"text-align: right;\">1.09598 </td><td style=\"text-align: right;\">0.075799 </td></tr>\n",
       "<tr><td>GBM_grid_1_AutoML_20181116_100849_model_1          </td><td style=\"text-align: right;\">                 2.71863</td><td style=\"text-align: right;\">1.64883</td><td style=\"text-align: right;\">2.71863</td><td style=\"text-align: right;\">1.13638 </td><td style=\"text-align: right;\">0.0813326</td></tr>\n",
       "<tr><td>DeepLearning_grid_1_AutoML_20181116_100849_model_1 </td><td style=\"text-align: right;\">                 2.93474</td><td style=\"text-align: right;\">1.71311</td><td style=\"text-align: right;\">2.93474</td><td style=\"text-align: right;\">1.12652 </td><td style=\"text-align: right;\">0.0841637</td></tr>\n",
       "<tr><td>DeepLearning_grid_1_AutoML_20181116_100849_model_2 </td><td style=\"text-align: right;\">                 3.1568 </td><td style=\"text-align: right;\">1.77674</td><td style=\"text-align: right;\">3.1568 </td><td style=\"text-align: right;\">1.20223 </td><td style=\"text-align: right;\">0.0870442</td></tr>\n",
       "</tbody>\n",
       "</table>"
      ]
     },
     "metadata": {},
     "output_type": "display_data"
    },
    {
     "data": {
      "text/plain": []
     },
     "execution_count": 25,
     "metadata": {},
     "output_type": "execute_result"
    }
   ],
   "source": [
    "lb = aml20.leaderboard\n",
    "# Print all rows instead of default (10 rows)\n",
    "lb.head(rows=lb.nrows) "
   ]
  },
  {
   "cell_type": "code",
   "execution_count": null,
   "metadata": {},
   "outputs": [],
   "source": []
  }
 ],
 "metadata": {
  "kernelspec": {
   "display_name": "Python 3",
   "language": "python",
   "name": "python3"
  },
  "language_info": {
   "codemirror_mode": {
    "name": "ipython",
    "version": 3
   },
   "file_extension": ".py",
   "mimetype": "text/x-python",
   "name": "python",
   "nbconvert_exporter": "python",
   "pygments_lexer": "ipython3",
   "version": "3.5.5"
  }
 },
 "nbformat": 4,
 "nbformat_minor": 2
}
