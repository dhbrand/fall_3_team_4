{
 "cells": [
  {
   "cell_type": "code",
   "execution_count": 68,
   "metadata": {},
   "outputs": [],
   "source": [
    "import pandas as pd\n",
    "import numpy as np"
   ]
  },
  {
   "cell_type": "code",
   "execution_count": 58,
   "metadata": {},
   "outputs": [],
   "source": [
    "from sklearn.ensemble import GradientBoostingRegressor as GBM\n",
    "from sklearn.metrics import mean_absolute_error as mae"
   ]
  },
  {
   "cell_type": "code",
   "execution_count": 101,
   "metadata": {},
   "outputs": [],
   "source": [
    "train = pd.read_csv(\"../data/train_data.csv\")\n",
    "valid = pd.read_csv(\"../data/valid_data.csv\")"
   ]
  },
  {
   "cell_type": "code",
   "execution_count": 102,
   "metadata": {},
   "outputs": [],
   "source": [
    "X_train = train.drop('target', axis=1)\n",
    "y_train = train.target\n",
    "\n",
    "X_test = valid.drop('target', axis=1)\n",
    "y_test = valid.target"
   ]
  },
  {
   "cell_type": "markdown",
   "metadata": {},
   "source": [
    "Using an Isolation forest to remove outliers before scaling"
   ]
  },
  {
   "cell_type": "code",
   "execution_count": 62,
   "metadata": {},
   "outputs": [
    {
     "name": "stderr",
     "output_type": "stream",
     "text": [
      "/usr/local/anaconda3/lib/python3.5/site-packages/sklearn/ensemble/iforest.py:213: FutureWarning: default contamination parameter 0.1 will change in version 0.22 to \"auto\". This will change the predict method behavior.\n",
      "  FutureWarning)\n",
      "/usr/local/anaconda3/lib/python3.5/site-packages/sklearn/ensemble/iforest.py:223: FutureWarning: behaviour=\"old\" is deprecated and will be removed in version 0.22. Please use behaviour=\"new\", which makes the decision_function change to match other anomaly detection algorithm API.\n",
      "  FutureWarning)\n",
      "/usr/local/anaconda3/lib/python3.5/site-packages/sklearn/ensemble/iforest.py:417: DeprecationWarning: threshold_ attribute is deprecated in 0.20 and will be removed in 0.22.\n",
      "  \" be removed in 0.22.\", DeprecationWarning)\n"
     ]
    },
    {
     "name": "stdout",
     "output_type": "stream",
     "text": [
      "Number of Outliers: 508\n",
      "Number of rows without outliers: 4572\n"
     ]
    }
   ],
   "source": [
    "from sklearn.ensemble import IsolationForest\n",
    "\n",
    "clf = IsolationForest(max_samples = 100, random_state = 42)\n",
    "clf.fit(X_train)\n",
    "\n",
    "y_out = clf.predict(X_train)\n",
    "y_out = pd.DataFrame(y_out, columns = ['Top'])\n",
    "y_out[y_out['Top'] == 1].index.values\n",
    "\n",
    "X_train = X_train.iloc[y_out[y_out['Top'] == 1].index.values]\n",
    "X_train.reset_index(drop = True, inplace = True)\n",
    "print(\"Number of Outliers:\", y_out[y_out['Top'] == -1].shape[0])\n",
    "print(\"Number of rows without outliers:\", X_train.shape[0])\n",
    "\n"
   ]
  },
  {
   "cell_type": "code",
   "execution_count": 63,
   "metadata": {},
   "outputs": [
    {
     "name": "stdout",
     "output_type": "stream",
     "text": [
      "Number of Outliers: 508\n",
      "Number of rows without outliers: 4572\n"
     ]
    }
   ],
   "source": [
    "y_train = y_train.iloc[y_out[y_out['Top'] == 1].index.values]\n",
    "y_train.reset_index(drop = True, inplace = True)\n",
    "print(\"Number of Outliers:\", y_out[y_out['Top'] == -1].shape[0])\n",
    "print(\"Number of rows without outliers:\", X_train.shape[0])"
   ]
  },
  {
   "cell_type": "markdown",
   "metadata": {},
   "source": [
    "Building a scaler to fit on the X training data and then apply to the X testing data"
   ]
  },
  {
   "cell_type": "code",
   "execution_count": 64,
   "metadata": {},
   "outputs": [],
   "source": [
    "from sklearn.preprocessing import MinMaxScaler\n",
    "\n",
    "scaler = MinMaxScaler()\n",
    "X_train = scaler.fit_transform(X_train)\n",
    "\n",
    "X_test = scaler.transform(X_test)"
   ]
  },
  {
   "cell_type": "code",
   "execution_count": 65,
   "metadata": {},
   "outputs": [],
   "source": [
    "mod = GBM(**params)"
   ]
  },
  {
   "cell_type": "code",
   "execution_count": 66,
   "metadata": {},
   "outputs": [
    {
     "data": {
      "text/plain": [
       "0.9809257002499837"
      ]
     },
     "execution_count": 66,
     "metadata": {},
     "output_type": "execute_result"
    }
   ],
   "source": [
    "mod.fit(X_train, y_train)\n",
    "y_pred = mod.predict(X_test)\n",
    "y_pred = y_pred ** (1. / 3)\n",
    "mae(y_test, y_pred)"
   ]
  },
  {
   "cell_type": "code",
   "execution_count": null,
   "metadata": {},
   "outputs": [],
   "source": [
    "import xgboost as xgb\n",
    "from sklearn.model_selection import KFold, train_test_split, GridSearchCV\n",
    "from sklearn.metrics import mean_absolute_error\n",
    "import numpy as np"
   ]
  },
  {
   "cell_type": "code",
   "execution_count": null,
   "metadata": {},
   "outputs": [],
   "source": [
    "rng = np.random.RandomState(31337)"
   ]
  },
  {
   "cell_type": "code",
   "execution_count": null,
   "metadata": {},
   "outputs": [],
   "source": [
    "X_test_scaled.shape"
   ]
  },
  {
   "cell_type": "code",
   "execution_count": null,
   "metadata": {},
   "outputs": [],
   "source": [
    "evallist = [(dtest, 'eval'), (dtrain, 'train')]"
   ]
  },
  {
   "cell_type": "code",
   "execution_count": null,
   "metadata": {},
   "outputs": [],
   "source": [
    "kf = KFold(n_splits=5, shuffle=True, random_state=rng)\n",
    "for train_index, test_index in kf.split(X_train):\n",
    "    xgb_model = xgb.XGBRegressor().fit(X_train[train_index], y_train[train_index])\n",
    "    predictions = xgb_model.predict(X_train[test_index])\n",
    "    actuals = y_train[test_index]\n",
    "    print(mean_squared_error(actuals, predictions))"
   ]
  },
  {
   "cell_type": "code",
   "execution_count": null,
   "metadata": {},
   "outputs": [],
   "source": [
    "xgb_model = xgb.XGBRegressor()\n",
    "clf = GridSearchCV(xgb_model,\n",
    "                   {'max_depth': [2,4,6],\n",
    "                    'n_estimators': [50,100,200]}, verbose=1)\n",
    "clf.fit(X_train,y_train)\n",
    "print(clf.best_score_)\n",
    "print(clf.best_params_)"
   ]
  },
  {
   "cell_type": "code",
   "execution_count": null,
   "metadata": {},
   "outputs": [],
   "source": [
    "xgb_model = xgb.XGBRegressor(max_depth=2, n_estimators=50, random_state=303)\n",
    "xgb_model.fit(X_train, y_train)"
   ]
  },
  {
   "cell_type": "code",
   "execution_count": null,
   "metadata": {},
   "outputs": [],
   "source": [
    "y_pred = xgb_model.predict(X_test)"
   ]
  },
  {
   "cell_type": "code",
   "execution_count": null,
   "metadata": {},
   "outputs": [],
   "source": [
    "print(mean_absolute_error(y_test, y_pred))"
   ]
  },
  {
   "cell_type": "code",
   "execution_count": 30,
   "metadata": {},
   "outputs": [],
   "source": [
    "from sklearn.preprocessing import PowerTransformer\n",
    "pt = PowerTransformer()"
   ]
  },
  {
   "cell_type": "code",
   "execution_count": 54,
   "metadata": {},
   "outputs": [],
   "source": [
    "pt.fit(X_train)\n",
    "X_train = pt.transform(X_train)\n",
    "X_test = pt.transform(X_test)"
   ]
  },
  {
   "cell_type": "code",
   "execution_count": 55,
   "metadata": {},
   "outputs": [],
   "source": [
    "X_train = pd.DataFrame(X_train)\n",
    "X_test = pd.DataFrame(X_test)"
   ]
  },
  {
   "cell_type": "code",
   "execution_count": 56,
   "metadata": {},
   "outputs": [],
   "source": [
    "y_train = y_train**3"
   ]
  },
  {
   "cell_type": "code",
   "execution_count": 59,
   "metadata": {},
   "outputs": [],
   "source": [
    "mod = GBM(**params)"
   ]
  },
  {
   "cell_type": "code",
   "execution_count": 61,
   "metadata": {},
   "outputs": [
    {
     "data": {
      "text/plain": [
       "0.9698692122504915"
      ]
     },
     "execution_count": 61,
     "metadata": {},
     "output_type": "execute_result"
    }
   ],
   "source": [
    "mod.fit(X_train, y_train)\n",
    "y_pred = mod.predict(X_test)\n",
    "y_pred = y_pred ** (1. / 3)\n",
    "mae(y_test, y_pred)"
   ]
  },
  {
   "cell_type": "markdown",
   "metadata": {},
   "source": [
    "# Final Code to be used to generate testing predictions"
   ]
  },
  {
   "cell_type": "markdown",
   "metadata": {},
   "source": [
    "base model to compare against"
   ]
  },
  {
   "cell_type": "code",
   "execution_count": 74,
   "metadata": {},
   "outputs": [
    {
     "data": {
      "text/plain": [
       "0.9700696614718827"
      ]
     },
     "execution_count": 74,
     "metadata": {},
     "output_type": "execute_result"
    }
   ],
   "source": [
    "y_mean = np.repeat(np.mean(y_train), y_test.shape[0])\n",
    "mae(y_test, y_mean)"
   ]
  },
  {
   "cell_type": "markdown",
   "metadata": {},
   "source": [
    "Going to extract continuous features to filter outliers and scale"
   ]
  },
  {
   "cell_type": "code",
   "execution_count": 86,
   "metadata": {},
   "outputs": [],
   "source": [
    "params = {'max_features': 'log2', 'learning_rate': 0.2, 'subsample': 0.5, 'max_depth': 3, \n",
    " 'loss': 'ls', 'n_estimators': 15, 'random_state': 999}"
   ]
  },
  {
   "cell_type": "code",
   "execution_count": 112,
   "metadata": {},
   "outputs": [],
   "source": [
    "X_train = pd.get_dummies(X_train)\n",
    "X_test = pd.get_dummies(X_test)"
   ]
  },
  {
   "cell_type": "code",
   "execution_count": 97,
   "metadata": {},
   "outputs": [
    {
     "data": {
      "text/plain": [
       "(5080, 100)"
      ]
     },
     "execution_count": 97,
     "metadata": {},
     "output_type": "execute_result"
    }
   ],
   "source": [
    "X_train.shape"
   ]
  },
  {
   "cell_type": "code",
   "execution_count": 88,
   "metadata": {},
   "outputs": [],
   "source": [
    "mod = GBM(**params)"
   ]
  },
  {
   "cell_type": "code",
   "execution_count": 89,
   "metadata": {},
   "outputs": [
    {
     "data": {
      "text/plain": [
       "0.9677727908775298"
      ]
     },
     "execution_count": 89,
     "metadata": {},
     "output_type": "execute_result"
    }
   ],
   "source": [
    "mod.fit(X_train, y_train)\n",
    "y_pred = mod.predict(X_test)\n",
    "mae(y_test, y_pred)"
   ]
  },
  {
   "cell_type": "code",
   "execution_count": 120,
   "metadata": {},
   "outputs": [],
   "source": [
    "x_holdout = pd.read_csv('../data/testData.csv')"
   ]
  },
  {
   "cell_type": "code",
   "execution_count": 121,
   "metadata": {},
   "outputs": [],
   "source": [
    "x_holdout.drop(['Unnamed: 0'], axis=1, inplace=True)"
   ]
  },
  {
   "cell_type": "code",
   "execution_count": 109,
   "metadata": {},
   "outputs": [
    {
     "name": "stdout",
     "output_type": "stream",
     "text": [
      "['A' 'B' 'C' 'D' 'E' 'F' 'G' 'H' 'I' 'J' 'K' 'L']\n",
      "['G' 'H' 'I' 'J']\n"
     ]
    }
   ],
   "source": [
    "print(np.sort(X_train.cat2.unique()))\n",
    "print(np.sort(x_holdout.cat2.unique()))"
   ]
  },
  {
   "cell_type": "code",
   "execution_count": 113,
   "metadata": {},
   "outputs": [
    {
     "data": {
      "text/plain": [
       "Index(['num1', 'num2', 'num3', 'num4', 'num5', 'num6', 'num7', 'num8', 'num9',\n",
       "       'num10', 'num11', 'num12', 'num13', 'num14', 'num15', 'num16', 'num17',\n",
       "       'num18', 'num19', 'num20', 'num21', 'num22', 'num23', 'num24', 'num25',\n",
       "       'num26', 'num27', 'num28', 'num29', 'num30', 'num31', 'num32', 'num33',\n",
       "       'num34', 'num35', 'num36', 'num37', 'num38', 'num39', 'num40', 'num41',\n",
       "       'num42', 'num43', 'num44', 'num45', 'num46', 'num47', 'num48', 'num49',\n",
       "       'num50', 'num51', 'num52', 'num53', 'num54', 'num55', 'num56', 'num57',\n",
       "       'num58', 'num59', 'cat3', 'cat4', 'cat5', 'cat6', 'cat7', 'cat8',\n",
       "       'cat9', 'cat10', 'cat11', 'cat12', 'cat13', 'cat14', 'cat15', 'cat16',\n",
       "       'cat17', 'cat18', 'cat19', 'cat20', 'cat21', 'cat22', 'cat23', 'cat24',\n",
       "       'cat25', 'cat26', 'cat1_A', 'cat1_B', 'cat1_C', 'cat1_D', 'cat1_E',\n",
       "       'cat2_A', 'cat2_B', 'cat2_C', 'cat2_D', 'cat2_E', 'cat2_F', 'cat2_G',\n",
       "       'cat2_H', 'cat2_I', 'cat2_J', 'cat2_K', 'cat2_L'],\n",
       "      dtype='object')"
      ]
     },
     "execution_count": 113,
     "metadata": {},
     "output_type": "execute_result"
    }
   ],
   "source": [
    "X_train.columns"
   ]
  },
  {
   "cell_type": "markdown",
   "metadata": {},
   "source": [
    "need to create missing columns for A, B, C, D, E, F, K, L"
   ]
  },
  {
   "cell_type": "code",
   "execution_count": 122,
   "metadata": {},
   "outputs": [],
   "source": [
    "x_holdout = pd.get_dummies(x_holdout)"
   ]
  },
  {
   "cell_type": "code",
   "execution_count": 114,
   "metadata": {},
   "outputs": [],
   "source": [
    "missing_columns = ['A', 'B', 'C', 'D', 'E', 'F', 'K', 'L']\n",
    "n = x_holdout.shape[0]"
   ]
  },
  {
   "cell_type": "code",
   "execution_count": 123,
   "metadata": {},
   "outputs": [],
   "source": [
    "for col in missing_columns:\n",
    "    col_name = 'cat2_' + col\n",
    "    x_holdout[col_name] = np.repeat(0, n)"
   ]
  },
  {
   "cell_type": "code",
   "execution_count": 125,
   "metadata": {},
   "outputs": [
    {
     "name": "stdout",
     "output_type": "stream",
     "text": [
      "Index(['num1', 'num2', 'num3', 'num4', 'num5', 'num6', 'num7', 'num8', 'num9',\n",
      "       'num10', 'num11', 'num12', 'num13', 'num14', 'num15', 'num16', 'num17',\n",
      "       'num18', 'num19', 'num20', 'num21', 'num22', 'num23', 'num24', 'num25',\n",
      "       'num26', 'num27', 'num28', 'num29', 'num30', 'num31', 'num32', 'num33',\n",
      "       'num34', 'num35', 'num36', 'num37', 'num38', 'num39', 'num40', 'num41',\n",
      "       'num42', 'num43', 'num44', 'num45', 'num46', 'num47', 'num48', 'num49',\n",
      "       'num50', 'num51', 'num52', 'num53', 'num54', 'num55', 'num56', 'num57',\n",
      "       'num58', 'num59', 'cat3', 'cat4', 'cat5', 'cat6', 'cat7', 'cat8',\n",
      "       'cat9', 'cat10', 'cat11', 'cat12', 'cat13', 'cat14', 'cat15', 'cat16',\n",
      "       'cat17', 'cat18', 'cat19', 'cat20', 'cat21', 'cat22', 'cat23', 'cat24',\n",
      "       'cat25', 'cat26', 'cat1_A', 'cat1_B', 'cat1_C', 'cat1_D', 'cat1_E',\n",
      "       'cat2_G', 'cat2_H', 'cat2_I', 'cat2_J', 'cat2_A', 'cat2_B', 'cat2_C',\n",
      "       'cat2_D', 'cat2_E', 'cat2_F', 'cat2_K', 'cat2_L'],\n",
      "      dtype='object')\n",
      "(77, 100)\n"
     ]
    }
   ],
   "source": [
    "print(x_holdout.columns)\n",
    "print(x_holdout.shape)"
   ]
  },
  {
   "cell_type": "code",
   "execution_count": 172,
   "metadata": {},
   "outputs": [
    {
     "data": {
      "text/plain": [
       "array([20.00851275, 20.05014019, 20.00851275, 20.05014019, 20.05321981,\n",
       "       20.05014019, 20.00851275, 20.09484725, 20.00851275, 20.05014019,\n",
       "       20.05321981, 20.05321981, 20.00851275, 20.05014019, 20.00851275,\n",
       "       20.00851275, 20.05321981, 20.05321981, 20.09484725, 20.00851275,\n",
       "       20.00851275, 20.00851275, 20.00851275, 20.00851275, 20.05014019,\n",
       "       20.05321981, 20.05321981, 20.05321981, 20.00851275, 20.09484725,\n",
       "       20.05014019, 20.05014019, 20.00851275, 20.00851275, 20.00851275,\n",
       "       20.05321981, 20.00851275, 20.00851275, 20.00851275, 20.00851275,\n",
       "       20.05014019, 20.09484725, 20.05321981, 20.09484725, 20.05321981,\n",
       "       20.05321981, 20.05321981, 20.00851275, 20.00851275, 20.00851275,\n",
       "       20.00851275, 20.05321981, 20.05321981, 20.00851275, 20.05014019,\n",
       "       20.00851275, 20.05321981, 20.09484725, 20.09484725, 20.05321981,\n",
       "       20.00851275, 20.00851275, 20.00851275, 20.05321981, 20.05321981,\n",
       "       20.09484725, 20.05321981, 20.05321981, 20.80911178, 20.93855552,\n",
       "       20.16470139, 20.61359749, 19.97536545, 19.69902313, 20.05321981,\n",
       "       19.93286368, 19.93286368])"
      ]
     },
     "execution_count": 172,
     "metadata": {},
     "output_type": "execute_result"
    }
   ],
   "source": [
    "yhat = mod.predict(x_holdout)\n",
    "yhat"
   ]
  },
  {
   "cell_type": "code",
   "execution_count": 187,
   "metadata": {},
   "outputs": [],
   "source": [
    "y_out = pd.Series(yhat)"
   ]
  },
  {
   "cell_type": "code",
   "execution_count": 185,
   "metadata": {},
   "outputs": [],
   "source": [
    "y_out['Prediction'] = yhat"
   ]
  },
  {
   "cell_type": "code",
   "execution_count": 188,
   "metadata": {},
   "outputs": [],
   "source": [
    "y_out.index.name = 'Row'"
   ]
  },
  {
   "cell_type": "code",
   "execution_count": 193,
   "metadata": {},
   "outputs": [],
   "source": [
    "y_out.to_csv('orange4.csv', header=True, index=True)"
   ]
  },
  {
   "cell_type": "code",
   "execution_count": 191,
   "metadata": {},
   "outputs": [],
   "source": []
  },
  {
   "cell_type": "code",
   "execution_count": 192,
   "metadata": {},
   "outputs": [
    {
     "data": {
      "text/plain": [
       "Row\n",
       "0     20.008513\n",
       "1     20.050140\n",
       "2     20.008513\n",
       "3     20.050140\n",
       "4     20.053220\n",
       "5     20.050140\n",
       "6     20.008513\n",
       "7     20.094847\n",
       "8     20.008513\n",
       "9     20.050140\n",
       "10    20.053220\n",
       "11    20.053220\n",
       "12    20.008513\n",
       "13    20.050140\n",
       "14    20.008513\n",
       "15    20.008513\n",
       "16    20.053220\n",
       "17    20.053220\n",
       "18    20.094847\n",
       "19    20.008513\n",
       "20    20.008513\n",
       "21    20.008513\n",
       "22    20.008513\n",
       "23    20.008513\n",
       "24    20.050140\n",
       "25    20.053220\n",
       "26    20.053220\n",
       "27    20.053220\n",
       "28    20.008513\n",
       "29    20.094847\n",
       "        ...    \n",
       "47    20.008513\n",
       "48    20.008513\n",
       "49    20.008513\n",
       "50    20.008513\n",
       "51    20.053220\n",
       "52    20.053220\n",
       "53    20.008513\n",
       "54    20.050140\n",
       "55    20.008513\n",
       "56    20.053220\n",
       "57    20.094847\n",
       "58    20.094847\n",
       "59    20.053220\n",
       "60    20.008513\n",
       "61    20.008513\n",
       "62    20.008513\n",
       "63    20.053220\n",
       "64    20.053220\n",
       "65    20.094847\n",
       "66    20.053220\n",
       "67    20.053220\n",
       "68    20.809112\n",
       "69    20.938556\n",
       "70    20.164701\n",
       "71    20.613597\n",
       "72    19.975365\n",
       "73    19.699023\n",
       "74    20.053220\n",
       "75    19.932864\n",
       "76    19.932864\n",
       "Name: Prediction, Length: 77, dtype: float64"
      ]
     },
     "execution_count": 192,
     "metadata": {},
     "output_type": "execute_result"
    }
   ],
   "source": [
    "y_out"
   ]
  },
  {
   "cell_type": "code",
   "execution_count": null,
   "metadata": {},
   "outputs": [],
   "source": []
  }
 ],
 "metadata": {
  "kernelspec": {
   "display_name": "Python 3",
   "language": "python",
   "name": "python3"
  },
  "language_info": {
   "codemirror_mode": {
    "name": "ipython",
    "version": 3
   },
   "file_extension": ".py",
   "mimetype": "text/x-python",
   "name": "python",
   "nbconvert_exporter": "python",
   "pygments_lexer": "ipython3",
   "version": "3.5.5"
  }
 },
 "nbformat": 4,
 "nbformat_minor": 2
}
